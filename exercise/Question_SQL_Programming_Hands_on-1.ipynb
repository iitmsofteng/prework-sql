{
 "cells": [
  {
   "cell_type": "markdown",
   "metadata": {
    "id": "FicjAlQHA3a7"
   },
   "source": [
    "<img src=\"http://drive.google.com/uc?export=view&id=1tpOCamr9aWz817atPnyXus8w5gJ3mIts\" width=500px>\n",
    "\n",
    "Proprietary content. © Great Learning. All Rights Reserved. Unauthorized use or distribution prohibited."
   ]
  },
  {
   "cell_type": "markdown",
   "metadata": {
    "id": "fXEy7iu-A7bZ"
   },
   "source": [
    "---\n",
    "# Hands-on - Advanced Certificate in Software Engineering - IIT Madras\n",
    "---"
   ]
  },
  {
   "cell_type": "markdown",
   "metadata": {
    "id": "BYdJwSSOAp4s"
   },
   "source": [
    "# Instructions\n",
    "\n",
    "- You need to add the code where ever you see \"`#### Add your code here ####`\"\n",
    "- Marks are mentioned along with the cells\n",
    "- **Do not edit any of the prefilled text/code part**"
   ]
  },
  {
   "cell_type": "markdown",
   "metadata": {
    "id": "LU3Iwf1hPqus"
   },
   "source": [
    "## Run below cells before starting the test - Mandatory"
   ]
  },
  {
   "cell_type": "code",
   "execution_count": 1,
   "metadata": {
    "colab": {
     "base_uri": "https://localhost:8080/",
     "height": 552
    },
    "id": "tCqvlOraEqxG",
    "outputId": "ab6bb555-f12b-46e2-ba83-780a7ed6ef90",
    "scrolled": true
   },
   "outputs": [
    {
     "name": "stdout",
     "output_type": "stream",
     "text": [
      "Collecting pip\n",
      "  Downloading pip-21.1.2-py3-none-any.whl (1.5 MB)\n",
      "Installing collected packages: pip\n",
      "  Attempting uninstall: pip\n",
      "    Found existing installation: pip 20.1.1\n",
      "    Uninstalling pip-20.1.1:\n",
      "      Successfully uninstalled pip-20.1.1\n"
     ]
    },
    {
     "name": "stderr",
     "output_type": "stream",
     "text": [
      "ERROR: Could not install packages due to an EnvironmentError: [WinError 5] Access is denied: 'C:\\\\Users\\\\dheep.balaraman\\\\AppData\\\\Local\\\\Temp\\\\pip-uninstall-10wjlwpk\\\\pip.exe'\n",
      "Consider using the `--user` option or check the permissions.\n",
      "\n"
     ]
    },
    {
     "name": "stdout",
     "output_type": "stream",
     "text": [
      "Collecting ipython-sql\n",
      "  Downloading ipython_sql-0.4.0-py3-none-any.whl (19 kB)\n",
      "Requirement already satisfied: ipython>=1.0 in c:\\users\\dheep.balaraman\\anaconda3\\envs\\kaggleenv\\lib\\site-packages (from ipython-sql) (7.16.1)\n",
      "Collecting sqlparse\n",
      "  Downloading sqlparse-0.4.1-py3-none-any.whl (42 kB)\n",
      "Requirement already satisfied: sqlalchemy>=0.6.7 in c:\\users\\dheep.balaraman\\anaconda3\\envs\\kaggleenv\\lib\\site-packages (from ipython-sql) (1.3.18)\n",
      "Requirement already satisfied: six in c:\\users\\dheep.balaraman\\anaconda3\\envs\\kaggleenv\\lib\\site-packages (from ipython-sql) (1.15.0)\n",
      "Requirement already satisfied: ipython-genutils>=0.1.0 in c:\\users\\dheep.balaraman\\anaconda3\\envs\\kaggleenv\\lib\\site-packages (from ipython-sql) (0.2.0)\n",
      "Collecting prettytable<1\n",
      "  Downloading prettytable-0.7.2.zip (28 kB)\n",
      "Requirement already satisfied: setuptools>=18.5 in c:\\users\\dheep.balaraman\\anaconda3\\envs\\kaggleenv\\lib\\site-packages (from ipython>=1.0->ipython-sql) (49.2.0.post20200714)\n",
      "Requirement already satisfied: pygments in c:\\users\\dheep.balaraman\\anaconda3\\envs\\kaggleenv\\lib\\site-packages (from ipython>=1.0->ipython-sql) (2.6.1)\n",
      "Requirement already satisfied: decorator in c:\\users\\dheep.balaraman\\anaconda3\\envs\\kaggleenv\\lib\\site-packages (from ipython>=1.0->ipython-sql) (4.4.2)\n",
      "Requirement already satisfied: backcall in c:\\users\\dheep.balaraman\\anaconda3\\envs\\kaggleenv\\lib\\site-packages (from ipython>=1.0->ipython-sql) (0.2.0)\n",
      "Requirement already satisfied: colorama in c:\\users\\dheep.balaraman\\anaconda3\\envs\\kaggleenv\\lib\\site-packages (from ipython>=1.0->ipython-sql) (0.4.3)\n",
      "Requirement already satisfied: pickleshare in c:\\users\\dheep.balaraman\\anaconda3\\envs\\kaggleenv\\lib\\site-packages (from ipython>=1.0->ipython-sql) (0.7.5)\n",
      "Requirement already satisfied: jedi>=0.10 in c:\\users\\dheep.balaraman\\anaconda3\\envs\\kaggleenv\\lib\\site-packages (from ipython>=1.0->ipython-sql) (0.17.1)\n",
      "Requirement already satisfied: traitlets>=4.2 in c:\\users\\dheep.balaraman\\anaconda3\\envs\\kaggleenv\\lib\\site-packages (from ipython>=1.0->ipython-sql) (4.3.3)\n",
      "Requirement already satisfied: prompt-toolkit!=3.0.0,!=3.0.1,<3.1.0,>=2.0.0 in c:\\users\\dheep.balaraman\\anaconda3\\envs\\kaggleenv\\lib\\site-packages (from ipython>=1.0->ipython-sql) (3.0.5)\n",
      "Requirement already satisfied: parso<0.8.0,>=0.7.0 in c:\\users\\dheep.balaraman\\anaconda3\\envs\\kaggleenv\\lib\\site-packages (from jedi>=0.10->ipython>=1.0->ipython-sql) (0.7.0)\n",
      "Requirement already satisfied: wcwidth in c:\\users\\dheep.balaraman\\anaconda3\\envs\\kaggleenv\\lib\\site-packages (from prompt-toolkit!=3.0.0,!=3.0.1,<3.1.0,>=2.0.0->ipython>=1.0->ipython-sql) (0.2.5)\n",
      "Building wheels for collected packages: prettytable\n",
      "  Building wheel for prettytable (setup.py): started\n",
      "  Building wheel for prettytable (setup.py): finished with status 'done'\n",
      "  Created wheel for prettytable: filename=prettytable-0.7.2-py3-none-any.whl size=13704 sha256=723f11f9550ce289056aeceb9bfb9bf622179d9610c2709aaaecd6f784e90023\n",
      "  Stored in directory: c:\\users\\dheep.balaraman\\appdata\\local\\pip\\cache\\wheels\\48\\6d\\77\\9517cb933af254f51a446f1a5ec9c2be3e45f17384940bce68\n",
      "Successfully built prettytable\n",
      "Installing collected packages: sqlparse, prettytable, ipython-sql\n",
      "Successfully installed ipython-sql-0.4.0 prettytable-0.7.2 sqlparse-0.4.1\n"
     ]
    }
   ],
   "source": [
    "#### Please run this cell. Don't edit anything ####\n",
    "\n",
    "!pip install --upgrade pip\n",
    "!pip install ipython-sql\n",
    "\n",
    "%load_ext sql\n",
    "%sql sqlite://"
   ]
  },
  {
   "cell_type": "markdown",
   "metadata": {
    "id": "S0VaOHRRuJ0a"
   },
   "source": [
    "## <font color='blue'> Please run the following cell. Don't edit anything </font>"
   ]
  },
  {
   "cell_type": "code",
   "execution_count": 2,
   "metadata": {
    "colab": {
     "base_uri": "https://localhost:8080/"
    },
    "id": "hXM5Aw8imxUu",
    "outputId": "a2c35860-78a7-435c-eec6-da405187e40d"
   },
   "outputs": [
    {
     "name": "stdout",
     "output_type": "stream",
     "text": [
      " * sqlite://\n",
      "Done.\n",
      "1 rows affected.\n",
      "1 rows affected.\n",
      "1 rows affected.\n",
      "1 rows affected.\n",
      "1 rows affected.\n",
      "Done.\n",
      "1 rows affected.\n",
      "1 rows affected.\n",
      "1 rows affected.\n",
      "1 rows affected.\n",
      "1 rows affected.\n",
      "1 rows affected.\n",
      "1 rows affected.\n",
      "1 rows affected.\n",
      "1 rows affected.\n",
      "1 rows affected.\n"
     ]
    },
    {
     "data": {
      "text/plain": [
       "[]"
      ]
     },
     "execution_count": 2,
     "metadata": {},
     "output_type": "execute_result"
    }
   ],
   "source": [
    "%%sql\n",
    "\n",
    "\n",
    "CREATE TABLE if not exists `user`(\n",
    "  `user_id` VARCHAR(50) NOT NULL,\n",
    "  `user_name` VARCHAR(50) NOT NULL,\n",
    "  `email` VARCHAR(50) NOT NULL UNIQUE,\n",
    "  `access_level` VARCHAR(50)\n",
    ");\n",
    " \n",
    "INSERT INTO `user` (`user_id`,`user_name`,`email`,`access_level`) VALUES ('U101','Alex','alex@office.com','Normal');\n",
    "INSERT INTO `user` (`user_id`,`user_name`,`email`,`access_level`) VALUES ('U102','Dwight','dwight@office.com','Admin');\n",
    "INSERT INTO `user` (`user_id`,`user_name`,`email`,`access_level`) VALUES ('U103','Michael','micael@office.com','Admin');\n",
    "INSERT INTO `user` (`user_id`,`user_name`,`email`,`access_level`) VALUES ('U104','Jim','jim@office.com','Admin');\n",
    "INSERT INTO `user` (`user_id`,`user_name`,`email`,`access_level`) VALUES ('U105','Pam','pam@office.com','Normal');\n",
    "\n",
    "\n",
    "\n",
    "CREATE TABLE if not exists `products`(\n",
    "  `product_id` VARCHAR(50) NOT NULL,\n",
    "  `product_name` VARCHAR(50) NOT NULL,\n",
    "  `brand_name` VARCHAR(50) NOT NULL,\n",
    "  `price` INT\n",
    ");\n",
    " \n",
    "INSERT INTO `products` (`product_id`,`product_name`,`brand_name`,`price`) VALUES ('1','soap','vivel',10);\n",
    "INSERT INTO `products` (`product_id`,`product_name`,`brand_name`,`price`) VALUES ('2','box','naman',15);\n",
    "INSERT INTO `products` (`product_id`,`product_name`,`brand_name`,`price`) VALUES ('3','shampoo','vivel',30);\n",
    "INSERT INTO `products` (`product_id`,`product_name`,`brand_name`,`price`) VALUES ('4','detergent','quarts',20);\n",
    "INSERT INTO `products` (`product_id`,`product_name`,`brand_name`,`price`) VALUES ('5','brush','pepsod',100);\n",
    "INSERT INTO `products` (`product_id`,`product_name`,`brand_name`,`price`) VALUES ('6','fridge','kelvinator',35);\n",
    "INSERT INTO `products` (`product_id`,`product_name`,`brand_name`,`price`) VALUES ('7','cooler','kelvinator',40);\n",
    "INSERT INTO `products` (`product_id`,`product_name`,`brand_name`,`price`) VALUES ('8','shirt','raymond',60);\n",
    "INSERT INTO `products` (`product_id`,`product_name`,`brand_name`,`price`) VALUES ('9','heater','kelvinator',70);\n",
    "INSERT INTO `products` (`product_id`,`product_name`,`brand_name`,`price`) VALUES ('10','trouser','raymond',21);\n",
    "\n"
   ]
  },
  {
   "cell_type": "markdown",
   "metadata": {
    "id": "9SlB2-PSuJ0a"
   },
   "source": [
    "## <font color='blue'> Please run the following cell. Don't edit anything </font>"
   ]
  },
  {
   "cell_type": "code",
   "execution_count": 3,
   "metadata": {
    "colab": {
     "base_uri": "https://localhost:8080/",
     "height": 172
    },
    "id": "0AUcA_lzObxB",
    "outputId": "f9fae4d4-a4b5-4781-cdc1-ea293c0ca3a8",
    "scrolled": true
   },
   "outputs": [
    {
     "name": "stdout",
     "output_type": "stream",
     "text": [
      " * sqlite://\n",
      "Done.\n"
     ]
    },
    {
     "data": {
      "text/html": [
       "<table>\n",
       "    <tr>\n",
       "        <th>user_id</th>\n",
       "        <th>user_name</th>\n",
       "        <th>email</th>\n",
       "        <th>access_level</th>\n",
       "    </tr>\n",
       "    <tr>\n",
       "        <td>U101</td>\n",
       "        <td>Alex</td>\n",
       "        <td>alex@office.com</td>\n",
       "        <td>Normal</td>\n",
       "    </tr>\n",
       "    <tr>\n",
       "        <td>U102</td>\n",
       "        <td>Dwight</td>\n",
       "        <td>dwight@office.com</td>\n",
       "        <td>Admin</td>\n",
       "    </tr>\n",
       "    <tr>\n",
       "        <td>U103</td>\n",
       "        <td>Michael</td>\n",
       "        <td>micael@office.com</td>\n",
       "        <td>Admin</td>\n",
       "    </tr>\n",
       "    <tr>\n",
       "        <td>U104</td>\n",
       "        <td>Jim</td>\n",
       "        <td>jim@office.com</td>\n",
       "        <td>Admin</td>\n",
       "    </tr>\n",
       "    <tr>\n",
       "        <td>U105</td>\n",
       "        <td>Pam</td>\n",
       "        <td>pam@office.com</td>\n",
       "        <td>Normal</td>\n",
       "    </tr>\n",
       "</table>"
      ],
      "text/plain": [
       "[('U101', 'Alex', 'alex@office.com', 'Normal'),\n",
       " ('U102', 'Dwight', 'dwight@office.com', 'Admin'),\n",
       " ('U103', 'Michael', 'micael@office.com', 'Admin'),\n",
       " ('U104', 'Jim', 'jim@office.com', 'Admin'),\n",
       " ('U105', 'Pam', 'pam@office.com', 'Normal')]"
      ]
     },
     "execution_count": 3,
     "metadata": {},
     "output_type": "execute_result"
    }
   ],
   "source": [
    "%%sql\n",
    "\n",
    "select * from user;"
   ]
  },
  {
   "cell_type": "markdown",
   "metadata": {
    "id": "cgvxLePIuJ0a"
   },
   "source": [
    "## <font color='blue'> Please run the following cell. Don't edit anything </font>"
   ]
  },
  {
   "cell_type": "code",
   "execution_count": 4,
   "metadata": {
    "colab": {
     "base_uri": "https://localhost:8080/",
     "height": 272
    },
    "id": "7ENCIINpbmKa",
    "outputId": "60e2c8ae-9e10-465a-f862-bf53e89350a6"
   },
   "outputs": [
    {
     "name": "stdout",
     "output_type": "stream",
     "text": [
      " * sqlite://\n",
      "Done.\n"
     ]
    },
    {
     "data": {
      "text/html": [
       "<table>\n",
       "    <tr>\n",
       "        <th>product_id</th>\n",
       "        <th>product_name</th>\n",
       "        <th>brand_name</th>\n",
       "        <th>price</th>\n",
       "    </tr>\n",
       "    <tr>\n",
       "        <td>1</td>\n",
       "        <td>soap</td>\n",
       "        <td>vivel</td>\n",
       "        <td>10</td>\n",
       "    </tr>\n",
       "    <tr>\n",
       "        <td>2</td>\n",
       "        <td>box</td>\n",
       "        <td>naman</td>\n",
       "        <td>15</td>\n",
       "    </tr>\n",
       "    <tr>\n",
       "        <td>3</td>\n",
       "        <td>shampoo</td>\n",
       "        <td>vivel</td>\n",
       "        <td>30</td>\n",
       "    </tr>\n",
       "    <tr>\n",
       "        <td>4</td>\n",
       "        <td>detergent</td>\n",
       "        <td>quarts</td>\n",
       "        <td>20</td>\n",
       "    </tr>\n",
       "    <tr>\n",
       "        <td>5</td>\n",
       "        <td>brush</td>\n",
       "        <td>pepsod</td>\n",
       "        <td>100</td>\n",
       "    </tr>\n",
       "    <tr>\n",
       "        <td>6</td>\n",
       "        <td>fridge</td>\n",
       "        <td>kelvinator</td>\n",
       "        <td>35</td>\n",
       "    </tr>\n",
       "    <tr>\n",
       "        <td>7</td>\n",
       "        <td>cooler</td>\n",
       "        <td>kelvinator</td>\n",
       "        <td>40</td>\n",
       "    </tr>\n",
       "    <tr>\n",
       "        <td>8</td>\n",
       "        <td>shirt</td>\n",
       "        <td>raymond</td>\n",
       "        <td>60</td>\n",
       "    </tr>\n",
       "    <tr>\n",
       "        <td>9</td>\n",
       "        <td>heater</td>\n",
       "        <td>kelvinator</td>\n",
       "        <td>70</td>\n",
       "    </tr>\n",
       "    <tr>\n",
       "        <td>10</td>\n",
       "        <td>trouser</td>\n",
       "        <td>raymond</td>\n",
       "        <td>21</td>\n",
       "    </tr>\n",
       "</table>"
      ],
      "text/plain": [
       "[('1', 'soap', 'vivel', 10),\n",
       " ('2', 'box', 'naman', 15),\n",
       " ('3', 'shampoo', 'vivel', 30),\n",
       " ('4', 'detergent', 'quarts', 20),\n",
       " ('5', 'brush', 'pepsod', 100),\n",
       " ('6', 'fridge', 'kelvinator', 35),\n",
       " ('7', 'cooler', 'kelvinator', 40),\n",
       " ('8', 'shirt', 'raymond', 60),\n",
       " ('9', 'heater', 'kelvinator', 70),\n",
       " ('10', 'trouser', 'raymond', 21)]"
      ]
     },
     "execution_count": 4,
     "metadata": {},
     "output_type": "execute_result"
    }
   ],
   "source": [
    "%%sql\n",
    "\n",
    "select * from products;"
   ]
  },
  {
   "cell_type": "markdown",
   "metadata": {
    "id": "YafvJWJKUQic"
   },
   "source": [
    "## Question 1 (4 Marks)\n",
    "\n",
    "Count the number of `user_id` with `Normal` access_level in the `user` table."
   ]
  },
  {
   "cell_type": "code",
   "execution_count": 11,
   "metadata": {
    "id": "UmszidhzuJ0a",
    "scrolled": false
   },
   "outputs": [
    {
     "name": "stdout",
     "output_type": "stream",
     "text": [
      " * sqlite://\n",
      "Done.\n"
     ]
    },
    {
     "data": {
      "text/html": [
       "<table>\n",
       "    <tr>\n",
       "        <th>count(user_id)</th>\n",
       "    </tr>\n",
       "    <tr>\n",
       "        <td>2</td>\n",
       "    </tr>\n",
       "</table>"
      ],
      "text/plain": [
       "[(2,)]"
      ]
     },
     "execution_count": 11,
     "metadata": {},
     "output_type": "execute_result"
    }
   ],
   "source": [
    "%%sql\n",
    "\n",
    "select count(user_id) from user where access_level = 'Normal';"
   ]
  },
  {
   "cell_type": "markdown",
   "metadata": {
    "id": "hR2CKCesWIKy"
   },
   "source": [
    "## Question 2 (3 Marks)\n",
    "\n",
    "Print the all the product information for `brand_name` `vivel` in the  `products` table."
   ]
  },
  {
   "cell_type": "code",
   "execution_count": 12,
   "metadata": {
    "id": "ZEGu1OUuuJ0b"
   },
   "outputs": [
    {
     "name": "stdout",
     "output_type": "stream",
     "text": [
      " * sqlite://\n",
      "Done.\n"
     ]
    },
    {
     "data": {
      "text/html": [
       "<table>\n",
       "    <tr>\n",
       "        <th>product_id</th>\n",
       "        <th>product_name</th>\n",
       "        <th>brand_name</th>\n",
       "        <th>price</th>\n",
       "    </tr>\n",
       "    <tr>\n",
       "        <td>1</td>\n",
       "        <td>soap</td>\n",
       "        <td>vivel</td>\n",
       "        <td>10</td>\n",
       "    </tr>\n",
       "    <tr>\n",
       "        <td>3</td>\n",
       "        <td>shampoo</td>\n",
       "        <td>vivel</td>\n",
       "        <td>30</td>\n",
       "    </tr>\n",
       "</table>"
      ],
      "text/plain": [
       "[('1', 'soap', 'vivel', 10), ('3', 'shampoo', 'vivel', 30)]"
      ]
     },
     "execution_count": 12,
     "metadata": {},
     "output_type": "execute_result"
    }
   ],
   "source": [
    "%%sql\n",
    "\n",
    "select * from products where brand_name = 'vivel';"
   ]
  },
  {
   "cell_type": "markdown",
   "metadata": {
    "id": "1hVLCBTPb30K"
   },
   "source": [
    "## Question 3 (3 Marks)\n",
    "\n",
    "Print the all the unique `brand_name` from the `products` table. "
   ]
  },
  {
   "cell_type": "code",
   "execution_count": 14,
   "metadata": {
    "id": "VODiNTYsuJ0b",
    "scrolled": false
   },
   "outputs": [
    {
     "name": "stdout",
     "output_type": "stream",
     "text": [
      " * sqlite://\n",
      "Done.\n"
     ]
    },
    {
     "data": {
      "text/html": [
       "<table>\n",
       "    <tr>\n",
       "        <th>brand_name</th>\n",
       "    </tr>\n",
       "    <tr>\n",
       "        <td>vivel</td>\n",
       "    </tr>\n",
       "    <tr>\n",
       "        <td>naman</td>\n",
       "    </tr>\n",
       "    <tr>\n",
       "        <td>quarts</td>\n",
       "    </tr>\n",
       "    <tr>\n",
       "        <td>pepsod</td>\n",
       "    </tr>\n",
       "    <tr>\n",
       "        <td>kelvinator</td>\n",
       "    </tr>\n",
       "    <tr>\n",
       "        <td>raymond</td>\n",
       "    </tr>\n",
       "</table>"
      ],
      "text/plain": [
       "[('vivel',),\n",
       " ('naman',),\n",
       " ('quarts',),\n",
       " ('pepsod',),\n",
       " ('kelvinator',),\n",
       " ('raymond',)]"
      ]
     },
     "execution_count": 14,
     "metadata": {},
     "output_type": "execute_result"
    }
   ],
   "source": [
    "%%sql\n",
    "\n",
    "select distinct(brand_name) from products; "
   ]
  },
  {
   "cell_type": "code",
   "execution_count": 22,
   "metadata": {
    "id": "XDRtY80juJ0b"
   },
   "outputs": [
    {
     "name": "stdout",
     "output_type": "stream",
     "text": [
      " * sqlite://\n",
      "Done.\n"
     ]
    },
    {
     "data": {
      "text/html": [
       "<table>\n",
       "    <tr>\n",
       "        <th>count(brand_name)</th>\n",
       "        <th>brand_name</th>\n",
       "    </tr>\n",
       "    <tr>\n",
       "        <td>3</td>\n",
       "        <td>kelvinator</td>\n",
       "    </tr>\n",
       "    <tr>\n",
       "        <td>1</td>\n",
       "        <td>naman</td>\n",
       "    </tr>\n",
       "    <tr>\n",
       "        <td>1</td>\n",
       "        <td>pepsod</td>\n",
       "    </tr>\n",
       "    <tr>\n",
       "        <td>1</td>\n",
       "        <td>quarts</td>\n",
       "    </tr>\n",
       "    <tr>\n",
       "        <td>2</td>\n",
       "        <td>raymond</td>\n",
       "    </tr>\n",
       "    <tr>\n",
       "        <td>2</td>\n",
       "        <td>vivel</td>\n",
       "    </tr>\n",
       "</table>"
      ],
      "text/plain": [
       "[(3, 'kelvinator'),\n",
       " (1, 'naman'),\n",
       " (1, 'pepsod'),\n",
       " (1, 'quarts'),\n",
       " (2, 'raymond'),\n",
       " (2, 'vivel')]"
      ]
     },
     "execution_count": 22,
     "metadata": {},
     "output_type": "execute_result"
    }
   ],
   "source": [
    "%%sql\n",
    "select count(brand_name), brand_name from products group by brand_name;"
   ]
  },
  {
   "cell_type": "code",
   "execution_count": null,
   "metadata": {},
   "outputs": [],
   "source": []
  }
 ],
 "metadata": {
  "colab": {
   "collapsed_sections": [],
   "name": "Question_SQL_Programming_Hands_on.ipynb",
   "provenance": []
  },
  "kernelspec": {
   "display_name": "Python 3",
   "language": "python",
   "name": "python3"
  },
  "language_info": {
   "codemirror_mode": {
    "name": "ipython",
    "version": 3
   },
   "file_extension": ".py",
   "mimetype": "text/x-python",
   "name": "python",
   "nbconvert_exporter": "python",
   "pygments_lexer": "ipython3",
   "version": "3.8.3"
  }
 },
 "nbformat": 4,
 "nbformat_minor": 1
}
