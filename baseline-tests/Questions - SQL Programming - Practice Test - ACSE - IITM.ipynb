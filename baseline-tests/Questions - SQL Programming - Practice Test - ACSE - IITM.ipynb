{
 "cells": [
  {
   "cell_type": "markdown",
   "metadata": {
    "id": "FicjAlQHA3a7"
   },
   "source": [
    "<img src=\"http://drive.google.com/uc?export=view&id=1tpOCamr9aWz817atPnyXus8w5gJ3mIts\" width=500px>\n",
    "\n",
    "Proprietary content. © Great Learning. All Rights Reserved. Unauthorized use or distribution prohibited."
   ]
  },
  {
   "cell_type": "markdown",
   "metadata": {
    "id": "fXEy7iu-A7bZ"
   },
   "source": [
    "---\n",
    "# Practice Test - Advanced Certificate in Software Engineering - IIT Madras\n",
    "---"
   ]
  },
  {
   "cell_type": "markdown",
   "metadata": {
    "id": "BYdJwSSOAp4s"
   },
   "source": [
    "# Instructions\n",
    "\n",
    "- You need to add the code where ever you see \"`/* Add your code here */`\"\n",
    "- **Do not edit any of the prefilled text/code part**"
   ]
  },
  {
   "cell_type": "markdown",
   "metadata": {
    "id": "LU3Iwf1hPqus"
   },
   "source": [
    "## Run below cells before starting the test - Mandatory"
   ]
  },
  {
   "cell_type": "markdown",
   "metadata": {
    "id": "G9HdHP93iSYK"
   },
   "source": [
    "#### Please run the below cell. Don't edit anything."
   ]
  },
  {
   "cell_type": "code",
   "execution_count": 1,
   "metadata": {
    "id": "tCqvlOraEqxG"
   },
   "outputs": [
    {
     "name": "stdout",
     "output_type": "stream",
     "text": [
      "Requirement already satisfied: pip in c:\\users\\dheep.balaraman\\anaconda3\\envs\\kaggleenv\\lib\\site-packages (21.1.2)\n",
      "Requirement already satisfied: ipython-sql in c:\\users\\dheep.balaraman\\anaconda3\\envs\\kaggleenv\\lib\\site-packages (0.4.0)\n",
      "Requirement already satisfied: sqlparse in c:\\users\\dheep.balaraman\\anaconda3\\envs\\kaggleenv\\lib\\site-packages (from ipython-sql) (0.4.1)\n",
      "Requirement already satisfied: prettytable<1 in c:\\users\\dheep.balaraman\\anaconda3\\envs\\kaggleenv\\lib\\site-packages (from ipython-sql) (0.7.2)\n",
      "Requirement already satisfied: ipython-genutils>=0.1.0 in c:\\users\\dheep.balaraman\\anaconda3\\envs\\kaggleenv\\lib\\site-packages (from ipython-sql) (0.2.0)\n",
      "Requirement already satisfied: ipython>=1.0 in c:\\users\\dheep.balaraman\\anaconda3\\envs\\kaggleenv\\lib\\site-packages (from ipython-sql) (7.16.1)\n",
      "Requirement already satisfied: six in c:\\users\\dheep.balaraman\\anaconda3\\envs\\kaggleenv\\lib\\site-packages (from ipython-sql) (1.15.0)\n",
      "Requirement already satisfied: sqlalchemy>=0.6.7 in c:\\users\\dheep.balaraman\\anaconda3\\envs\\kaggleenv\\lib\\site-packages (from ipython-sql) (1.3.18)\n",
      "Requirement already satisfied: traitlets>=4.2 in c:\\users\\dheep.balaraman\\anaconda3\\envs\\kaggleenv\\lib\\site-packages (from ipython>=1.0->ipython-sql) (4.3.3)\n",
      "Requirement already satisfied: colorama in c:\\users\\dheep.balaraman\\anaconda3\\envs\\kaggleenv\\lib\\site-packages (from ipython>=1.0->ipython-sql) (0.4.3)\n",
      "Requirement already satisfied: backcall in c:\\users\\dheep.balaraman\\anaconda3\\envs\\kaggleenv\\lib\\site-packages (from ipython>=1.0->ipython-sql) (0.2.0)\n",
      "Requirement already satisfied: jedi>=0.10 in c:\\users\\dheep.balaraman\\anaconda3\\envs\\kaggleenv\\lib\\site-packages (from ipython>=1.0->ipython-sql) (0.17.1)\n",
      "Requirement already satisfied: setuptools>=18.5 in c:\\users\\dheep.balaraman\\anaconda3\\envs\\kaggleenv\\lib\\site-packages (from ipython>=1.0->ipython-sql) (49.2.0.post20200714)\n",
      "Requirement already satisfied: pickleshare in c:\\users\\dheep.balaraman\\anaconda3\\envs\\kaggleenv\\lib\\site-packages (from ipython>=1.0->ipython-sql) (0.7.5)\n",
      "Requirement already satisfied: decorator in c:\\users\\dheep.balaraman\\anaconda3\\envs\\kaggleenv\\lib\\site-packages (from ipython>=1.0->ipython-sql) (4.4.2)\n",
      "Requirement already satisfied: pygments in c:\\users\\dheep.balaraman\\anaconda3\\envs\\kaggleenv\\lib\\site-packages (from ipython>=1.0->ipython-sql) (2.6.1)\n",
      "Requirement already satisfied: prompt-toolkit!=3.0.0,!=3.0.1,<3.1.0,>=2.0.0 in c:\\users\\dheep.balaraman\\anaconda3\\envs\\kaggleenv\\lib\\site-packages (from ipython>=1.0->ipython-sql) (3.0.5)\n",
      "Requirement already satisfied: parso<0.8.0,>=0.7.0 in c:\\users\\dheep.balaraman\\anaconda3\\envs\\kaggleenv\\lib\\site-packages (from jedi>=0.10->ipython>=1.0->ipython-sql) (0.7.0)\n",
      "Requirement already satisfied: wcwidth in c:\\users\\dheep.balaraman\\anaconda3\\envs\\kaggleenv\\lib\\site-packages (from prompt-toolkit!=3.0.0,!=3.0.1,<3.1.0,>=2.0.0->ipython>=1.0->ipython-sql) (0.2.5)\n"
     ]
    }
   ],
   "source": [
    "!pip install --upgrade pip\n",
    "!pip install ipython-sql\n",
    "\n",
    "%load_ext sql\n",
    "%sql sqlite://"
   ]
  },
  {
   "cell_type": "markdown",
   "metadata": {
    "id": "ZscktdzrlhWn"
   },
   "source": [
    "#### Please run the below cell. Don't edit anything."
   ]
  },
  {
   "cell_type": "code",
   "execution_count": 2,
   "metadata": {
    "id": "eWB3XeC4OZY9"
   },
   "outputs": [
    {
     "name": "stdout",
     "output_type": "stream",
     "text": [
      " * sqlite://\n",
      "Done.\n",
      "Done.\n",
      "1 rows affected.\n",
      "1 rows affected.\n",
      "1 rows affected.\n",
      "1 rows affected.\n",
      "1 rows affected.\n",
      "1 rows affected.\n",
      "1 rows affected.\n",
      "1 rows affected.\n",
      "1 rows affected.\n",
      "1 rows affected.\n",
      "1 rows affected.\n",
      "1 rows affected.\n",
      "1 rows affected.\n",
      "1 rows affected.\n",
      "1 rows affected.\n",
      "1 rows affected.\n",
      "1 rows affected.\n"
     ]
    },
    {
     "data": {
      "text/plain": [
       "[]"
      ]
     },
     "execution_count": 2,
     "metadata": {},
     "output_type": "execute_result"
    }
   ],
   "source": [
    "%%sql\n",
    "\n",
    "DROP TABLE IF EXISTS `employee`;\n",
    "CREATE TABLE `employee`\n",
    "(\n",
    "   `empcode`      INT(4),\n",
    "   `empname`     VARCHAR(15),\n",
    "   `job`          VARCHAR(45),\n",
    "   `hiredate`     DATE,\n",
    "   `salary`       INT(6),\n",
    "   `commission`   INT(6)\n",
    ");\n",
    "\n",
    "INSERT INTO `employee` values (939, 'Jim', 'SOFTWARE ENGINEER', '1980-12-17', 2800,0);\n",
    "INSERT INTO `employee` values (949, 'Dwight', 'SALESMAN', '1981-02-20', 1600, 300);    \n",
    "INSERT INTO `employee` values (966, 'Micheal', 'MANAGER','1981-04-02', 3570,0);\n",
    "insert into `employee` values (654,'Andy','SALESMAN','1981-09-28',1250,1400);\n",
    "insert into `employee` values (782,'Kevin','MANAGER','1981-06-09',2940,0);\n",
    "insert into `employee` values (788,'Pam','ANALYST', '1982-12-09',3000,0);\n",
    "insert into `employee` values (939,'Oscar','PRESIDENT','1981-11-17',5000,0);\n",
    "insert into `employee` values (984,'Creed','SALESMAN','1981-09-08',1500,0);\n",
    "insert into `employee` values (986,'Angela','SOFTWARE ENGINEER','1983-01-12',3100, 0);\n",
    "insert into `employee` values (990,'Bob','TECHNICAL LEAD','1981-12-03',2950,0);\n",
    "insert into `employee` values (902,'James','ANALYST','1981-12-03',3000,0);\n",
    "insert into `employee` values (994,'John','SOFTWARE ENGINEER','1982-01-23',3300,0);\n",
    "insert into `employee` values (991,'Wendy', 'SALESMAN','1981-02-22',500,0);\n",
    "insert into `employee` values (698,'Joe', 'MANAGER','1981-05-01',3420,0);\n",
    "insert into `employee` values (977,'Max', 'ANALYST','1981-05-01',2000,200);\n",
    "insert into `employee` values (960,'Stanely', 'ANALYST','1992-06-21',7000,100);\n",
    "insert into `employee` values (861,'Jennifer','ANALYST','1996-07-01',5000,100);\n"
   ]
  },
  {
   "cell_type": "markdown",
   "metadata": {
    "id": "BBRUrOvmljk6"
   },
   "source": [
    "#### Please run the below cell. Don't edit anything."
   ]
  },
  {
   "cell_type": "code",
   "execution_count": 3,
   "metadata": {
    "id": "0AUcA_lzObxB"
   },
   "outputs": [
    {
     "name": "stdout",
     "output_type": "stream",
     "text": [
      " * sqlite://\n",
      "Done.\n"
     ]
    },
    {
     "data": {
      "text/html": [
       "<table>\n",
       "    <tr>\n",
       "        <th>empcode</th>\n",
       "        <th>empname</th>\n",
       "        <th>job</th>\n",
       "        <th>hiredate</th>\n",
       "        <th>salary</th>\n",
       "        <th>commission</th>\n",
       "    </tr>\n",
       "    <tr>\n",
       "        <td>939</td>\n",
       "        <td>Jim</td>\n",
       "        <td>SOFTWARE ENGINEER</td>\n",
       "        <td>1980-12-17</td>\n",
       "        <td>2800</td>\n",
       "        <td>0</td>\n",
       "    </tr>\n",
       "    <tr>\n",
       "        <td>949</td>\n",
       "        <td>Dwight</td>\n",
       "        <td>SALESMAN</td>\n",
       "        <td>1981-02-20</td>\n",
       "        <td>1600</td>\n",
       "        <td>300</td>\n",
       "    </tr>\n",
       "    <tr>\n",
       "        <td>966</td>\n",
       "        <td>Micheal</td>\n",
       "        <td>MANAGER</td>\n",
       "        <td>1981-04-02</td>\n",
       "        <td>3570</td>\n",
       "        <td>0</td>\n",
       "    </tr>\n",
       "    <tr>\n",
       "        <td>654</td>\n",
       "        <td>Andy</td>\n",
       "        <td>SALESMAN</td>\n",
       "        <td>1981-09-28</td>\n",
       "        <td>1250</td>\n",
       "        <td>1400</td>\n",
       "    </tr>\n",
       "    <tr>\n",
       "        <td>782</td>\n",
       "        <td>Kevin</td>\n",
       "        <td>MANAGER</td>\n",
       "        <td>1981-06-09</td>\n",
       "        <td>2940</td>\n",
       "        <td>0</td>\n",
       "    </tr>\n",
       "    <tr>\n",
       "        <td>788</td>\n",
       "        <td>Pam</td>\n",
       "        <td>ANALYST</td>\n",
       "        <td>1982-12-09</td>\n",
       "        <td>3000</td>\n",
       "        <td>0</td>\n",
       "    </tr>\n",
       "    <tr>\n",
       "        <td>939</td>\n",
       "        <td>Oscar</td>\n",
       "        <td>PRESIDENT</td>\n",
       "        <td>1981-11-17</td>\n",
       "        <td>5000</td>\n",
       "        <td>0</td>\n",
       "    </tr>\n",
       "    <tr>\n",
       "        <td>984</td>\n",
       "        <td>Creed</td>\n",
       "        <td>SALESMAN</td>\n",
       "        <td>1981-09-08</td>\n",
       "        <td>1500</td>\n",
       "        <td>0</td>\n",
       "    </tr>\n",
       "    <tr>\n",
       "        <td>986</td>\n",
       "        <td>Angela</td>\n",
       "        <td>SOFTWARE ENGINEER</td>\n",
       "        <td>1983-01-12</td>\n",
       "        <td>3100</td>\n",
       "        <td>0</td>\n",
       "    </tr>\n",
       "    <tr>\n",
       "        <td>990</td>\n",
       "        <td>Bob</td>\n",
       "        <td>TECHNICAL LEAD</td>\n",
       "        <td>1981-12-03</td>\n",
       "        <td>2950</td>\n",
       "        <td>0</td>\n",
       "    </tr>\n",
       "    <tr>\n",
       "        <td>902</td>\n",
       "        <td>James</td>\n",
       "        <td>ANALYST</td>\n",
       "        <td>1981-12-03</td>\n",
       "        <td>3000</td>\n",
       "        <td>0</td>\n",
       "    </tr>\n",
       "    <tr>\n",
       "        <td>994</td>\n",
       "        <td>John</td>\n",
       "        <td>SOFTWARE ENGINEER</td>\n",
       "        <td>1982-01-23</td>\n",
       "        <td>3300</td>\n",
       "        <td>0</td>\n",
       "    </tr>\n",
       "    <tr>\n",
       "        <td>991</td>\n",
       "        <td>Wendy</td>\n",
       "        <td>SALESMAN</td>\n",
       "        <td>1981-02-22</td>\n",
       "        <td>500</td>\n",
       "        <td>0</td>\n",
       "    </tr>\n",
       "    <tr>\n",
       "        <td>698</td>\n",
       "        <td>Joe</td>\n",
       "        <td>MANAGER</td>\n",
       "        <td>1981-05-01</td>\n",
       "        <td>3420</td>\n",
       "        <td>0</td>\n",
       "    </tr>\n",
       "    <tr>\n",
       "        <td>977</td>\n",
       "        <td>Max</td>\n",
       "        <td>ANALYST</td>\n",
       "        <td>1981-05-01</td>\n",
       "        <td>2000</td>\n",
       "        <td>200</td>\n",
       "    </tr>\n",
       "    <tr>\n",
       "        <td>960</td>\n",
       "        <td>Stanely</td>\n",
       "        <td>ANALYST</td>\n",
       "        <td>1992-06-21</td>\n",
       "        <td>7000</td>\n",
       "        <td>100</td>\n",
       "    </tr>\n",
       "    <tr>\n",
       "        <td>861</td>\n",
       "        <td>Jennifer</td>\n",
       "        <td>ANALYST</td>\n",
       "        <td>1996-07-01</td>\n",
       "        <td>5000</td>\n",
       "        <td>100</td>\n",
       "    </tr>\n",
       "</table>"
      ],
      "text/plain": [
       "[(939, 'Jim', 'SOFTWARE ENGINEER', '1980-12-17', 2800, 0),\n",
       " (949, 'Dwight', 'SALESMAN', '1981-02-20', 1600, 300),\n",
       " (966, 'Micheal', 'MANAGER', '1981-04-02', 3570, 0),\n",
       " (654, 'Andy', 'SALESMAN', '1981-09-28', 1250, 1400),\n",
       " (782, 'Kevin', 'MANAGER', '1981-06-09', 2940, 0),\n",
       " (788, 'Pam', 'ANALYST', '1982-12-09', 3000, 0),\n",
       " (939, 'Oscar', 'PRESIDENT', '1981-11-17', 5000, 0),\n",
       " (984, 'Creed', 'SALESMAN', '1981-09-08', 1500, 0),\n",
       " (986, 'Angela', 'SOFTWARE ENGINEER', '1983-01-12', 3100, 0),\n",
       " (990, 'Bob', 'TECHNICAL LEAD', '1981-12-03', 2950, 0),\n",
       " (902, 'James', 'ANALYST', '1981-12-03', 3000, 0),\n",
       " (994, 'John', 'SOFTWARE ENGINEER', '1982-01-23', 3300, 0),\n",
       " (991, 'Wendy', 'SALESMAN', '1981-02-22', 500, 0),\n",
       " (698, 'Joe', 'MANAGER', '1981-05-01', 3420, 0),\n",
       " (977, 'Max', 'ANALYST', '1981-05-01', 2000, 200),\n",
       " (960, 'Stanely', 'ANALYST', '1992-06-21', 7000, 100),\n",
       " (861, 'Jennifer', 'ANALYST', '1996-07-01', 5000, 100)]"
      ]
     },
     "execution_count": 3,
     "metadata": {},
     "output_type": "execute_result"
    }
   ],
   "source": [
    "%%sql\n",
    "\n",
    "select * from employee;"
   ]
  },
  {
   "cell_type": "markdown",
   "metadata": {
    "id": "n_nkNWZYUamf"
   },
   "source": [
    "---"
   ]
  },
  {
   "cell_type": "markdown",
   "metadata": {
    "id": "RE3TZXuYOzRT"
   },
   "source": [
    "### **Refer to the `employee` table to answer the below questions**"
   ]
  },
  {
   "cell_type": "markdown",
   "metadata": {
    "id": "wJpUPm5z9q8E"
   },
   "source": [
    "## Question 1"
   ]
  },
  {
   "cell_type": "markdown",
   "metadata": {
    "id": "ezu6WUNdT950"
   },
   "source": [
    "Find out the lowest and highest (`salary+commission`) for each `job` in `employee` table"
   ]
  },
  {
   "cell_type": "code",
   "execution_count": 10,
   "metadata": {
    "id": "3QbEcHmGIz9W"
   },
   "outputs": [
    {
     "name": "stdout",
     "output_type": "stream",
     "text": [
      " * sqlite://\n",
      "Done.\n"
     ]
    },
    {
     "data": {
      "text/html": [
       "<table>\n",
       "    <tr>\n",
       "        <th>job</th>\n",
       "        <th>min(salary)</th>\n",
       "        <th>min(commission)</th>\n",
       "        <th>sum(salary+commission)</th>\n",
       "    </tr>\n",
       "    <tr>\n",
       "        <td>ANALYST</td>\n",
       "        <td>2000</td>\n",
       "        <td>0</td>\n",
       "        <td>20400</td>\n",
       "    </tr>\n",
       "    <tr>\n",
       "        <td>MANAGER</td>\n",
       "        <td>2940</td>\n",
       "        <td>0</td>\n",
       "        <td>9930</td>\n",
       "    </tr>\n",
       "    <tr>\n",
       "        <td>PRESIDENT</td>\n",
       "        <td>5000</td>\n",
       "        <td>0</td>\n",
       "        <td>5000</td>\n",
       "    </tr>\n",
       "    <tr>\n",
       "        <td>SALESMAN</td>\n",
       "        <td>500</td>\n",
       "        <td>0</td>\n",
       "        <td>6550</td>\n",
       "    </tr>\n",
       "    <tr>\n",
       "        <td>SOFTWARE ENGINEER</td>\n",
       "        <td>2800</td>\n",
       "        <td>0</td>\n",
       "        <td>9200</td>\n",
       "    </tr>\n",
       "    <tr>\n",
       "        <td>TECHNICAL LEAD</td>\n",
       "        <td>2950</td>\n",
       "        <td>0</td>\n",
       "        <td>2950</td>\n",
       "    </tr>\n",
       "</table>"
      ],
      "text/plain": [
       "[('ANALYST', 2000, 0, 20400),\n",
       " ('MANAGER', 2940, 0, 9930),\n",
       " ('PRESIDENT', 5000, 0, 5000),\n",
       " ('SALESMAN', 500, 0, 6550),\n",
       " ('SOFTWARE ENGINEER', 2800, 0, 9200),\n",
       " ('TECHNICAL LEAD', 2950, 0, 2950)]"
      ]
     },
     "execution_count": 10,
     "metadata": {},
     "output_type": "execute_result"
    }
   ],
   "source": [
    "%%sql\n",
    "\n",
    "/* Add your code here */\n",
    "select job, min(salary), min(commission), sum(salary+commission) from employee group by job;"
   ]
  },
  {
   "cell_type": "markdown",
   "metadata": {
    "id": "aufrK2gSUI2B"
   },
   "source": [
    "## Question 2"
   ]
  },
  {
   "cell_type": "markdown",
   "metadata": {
    "id": "wYq7j6axUMWp"
   },
   "source": [
    "Find out the the top three highest paying jobs (`salary+commission`) from the `employee` table.  "
   ]
  },
  {
   "cell_type": "code",
   "execution_count": null,
   "metadata": {
    "id": "fqFuhgC8MF2E"
   },
   "outputs": [],
   "source": [
    "%%sql\n",
    "\n",
    "/* Add your code here */"
   ]
  },
  {
   "cell_type": "markdown",
   "metadata": {
    "id": "YafvJWJKUQic"
   },
   "source": [
    "## Question 3"
   ]
  },
  {
   "cell_type": "markdown",
   "metadata": {
    "id": "yeOiv5koG5QS"
   },
   "source": [
    "Find out all the details of `employee` with the third highest `salary`.  "
   ]
  },
  {
   "cell_type": "code",
   "execution_count": null,
   "metadata": {
    "id": "L-NXqBqZTGGH"
   },
   "outputs": [],
   "source": [
    "%%sql\n",
    "\n",
    "/* Add your code here */"
   ]
  },
  {
   "cell_type": "code",
   "execution_count": 19,
   "metadata": {},
   "outputs": [
    {
     "name": "stdout",
     "output_type": "stream",
     "text": [
      " * sqlite://\n",
      "Done.\n"
     ]
    },
    {
     "data": {
      "text/html": [
       "<table>\n",
       "    <tr>\n",
       "        <th>empname</th>\n",
       "        <th>salary</th>\n",
       "    </tr>\n",
       "    <tr>\n",
       "        <td>Micheal</td>\n",
       "        <td>3570</td>\n",
       "    </tr>\n",
       "    <tr>\n",
       "        <td>Oscar</td>\n",
       "        <td>5000</td>\n",
       "    </tr>\n",
       "    <tr>\n",
       "        <td>Joe</td>\n",
       "        <td>3420</td>\n",
       "    </tr>\n",
       "    <tr>\n",
       "        <td>Stanely</td>\n",
       "        <td>7000</td>\n",
       "    </tr>\n",
       "    <tr>\n",
       "        <td>Jennifer</td>\n",
       "        <td>5000</td>\n",
       "    </tr>\n",
       "</table>"
      ],
      "text/plain": [
       "[('Micheal', 3570),\n",
       " ('Oscar', 5000),\n",
       " ('Joe', 3420),\n",
       " ('Stanely', 7000),\n",
       " ('Jennifer', 5000)]"
      ]
     },
     "execution_count": 19,
     "metadata": {},
     "output_type": "execute_result"
    }
   ],
   "source": [
    "%%sql\n",
    "select empname, salary from employee as E\n",
    "where (select count(*)\n",
    "       from employee as T\n",
    "       where T.salary > E.salary\n",
    "      ) <5;"
   ]
  },
  {
   "cell_type": "code",
   "execution_count": 12,
   "metadata": {},
   "outputs": [
    {
     "name": "stdout",
     "output_type": "stream",
     "text": [
      " * sqlite://\n",
      "Done.\n"
     ]
    },
    {
     "data": {
      "text/html": [
       "<table>\n",
       "    <tr>\n",
       "        <th>empname</th>\n",
       "        <th>salary</th>\n",
       "    </tr>\n",
       "    <tr>\n",
       "        <td>Stanely</td>\n",
       "        <td>7000</td>\n",
       "    </tr>\n",
       "    <tr>\n",
       "        <td>Oscar</td>\n",
       "        <td>5000</td>\n",
       "    </tr>\n",
       "    <tr>\n",
       "        <td>Jennifer</td>\n",
       "        <td>5000</td>\n",
       "    </tr>\n",
       "    <tr>\n",
       "        <td>Micheal</td>\n",
       "        <td>3570</td>\n",
       "    </tr>\n",
       "    <tr>\n",
       "        <td>Joe</td>\n",
       "        <td>3420</td>\n",
       "    </tr>\n",
       "    <tr>\n",
       "        <td>John</td>\n",
       "        <td>3300</td>\n",
       "    </tr>\n",
       "    <tr>\n",
       "        <td>Angela</td>\n",
       "        <td>3100</td>\n",
       "    </tr>\n",
       "    <tr>\n",
       "        <td>Pam</td>\n",
       "        <td>3000</td>\n",
       "    </tr>\n",
       "    <tr>\n",
       "        <td>James</td>\n",
       "        <td>3000</td>\n",
       "    </tr>\n",
       "    <tr>\n",
       "        <td>Bob</td>\n",
       "        <td>2950</td>\n",
       "    </tr>\n",
       "</table>"
      ],
      "text/plain": [
       "[('Stanely', 7000),\n",
       " ('Oscar', 5000),\n",
       " ('Jennifer', 5000),\n",
       " ('Micheal', 3570),\n",
       " ('Joe', 3420),\n",
       " ('John', 3300),\n",
       " ('Angela', 3100),\n",
       " ('Pam', 3000),\n",
       " ('James', 3000),\n",
       " ('Bob', 2950)]"
      ]
     },
     "execution_count": 12,
     "metadata": {},
     "output_type": "execute_result"
    }
   ],
   "source": [
    "%%sql\n",
    "SELECT empname, salary FROM employee ORDER BY salary DESC LIMIT 10;"
   ]
  },
  {
   "cell_type": "code",
   "execution_count": 17,
   "metadata": {},
   "outputs": [
    {
     "name": "stdout",
     "output_type": "stream",
     "text": [
      " * sqlite://\n",
      "Done.\n"
     ]
    },
    {
     "data": {
      "text/html": [
       "<table>\n",
       "    <tr>\n",
       "        <th>count(*)</th>\n",
       "    </tr>\n",
       "    <tr>\n",
       "        <td>1</td>\n",
       "    </tr>\n",
       "</table>"
      ],
      "text/plain": [
       "[(1,)]"
      ]
     },
     "execution_count": 17,
     "metadata": {},
     "output_type": "execute_result"
    }
   ],
   "source": [
    "%%sql\n",
    "select count(*) from employee as T where T.salary > 5000;"
   ]
  },
  {
   "cell_type": "code",
   "execution_count": 33,
   "metadata": {},
   "outputs": [
    {
     "name": "stdout",
     "output_type": "stream",
     "text": [
      " * sqlite://\n",
      "(sqlite3.OperationalError) near \"All\": syntax error\n",
      "[SQL: select P1.empname, P1.salary from employee P1 where P1.salary >= All (select salary from employee);]\n",
      "(Background on this error at: http://sqlalche.me/e/13/e3q8)\n"
     ]
    }
   ],
   "source": [
    "%%sql\n",
    "select P1.empname, P1.salary from employee P1 where P1.salary >= All (select salary from employee);"
   ]
  },
  {
   "cell_type": "code",
   "execution_count": null,
   "metadata": {},
   "outputs": [],
   "source": []
  }
 ],
 "metadata": {
  "colab": {
   "collapsed_sections": [],
   "name": "Questions - SQL Programming - Practice Test - ACSE - IITM.ipynb",
   "provenance": []
  },
  "kernelspec": {
   "display_name": "Python 3",
   "language": "python",
   "name": "python3"
  },
  "language_info": {
   "codemirror_mode": {
    "name": "ipython",
    "version": 3
   },
   "file_extension": ".py",
   "mimetype": "text/x-python",
   "name": "python",
   "nbconvert_exporter": "python",
   "pygments_lexer": "ipython3",
   "version": "3.8.3"
  }
 },
 "nbformat": 4,
 "nbformat_minor": 1
}
