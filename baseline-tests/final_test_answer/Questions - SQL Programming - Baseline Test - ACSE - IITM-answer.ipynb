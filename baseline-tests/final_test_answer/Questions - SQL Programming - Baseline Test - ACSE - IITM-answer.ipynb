{
 "cells": [
  {
   "cell_type": "markdown",
   "metadata": {
    "id": "FicjAlQHA3a7"
   },
   "source": [
    "<img src=\"http://drive.google.com/uc?export=view&id=1tpOCamr9aWz817atPnyXus8w5gJ3mIts\" width=500px>\n",
    "\n",
    "Proprietary content. © Great Learning. All Rights Reserved. Unauthorized use or distribution prohibited."
   ]
  },
  {
   "cell_type": "markdown",
   "metadata": {
    "id": "fXEy7iu-A7bZ"
   },
   "source": [
    "---\n",
    "# Baseline Test - Advanced Certificate in Software Engineering - IIT Madras\n",
    "---"
   ]
  },
  {
   "cell_type": "markdown",
   "metadata": {
    "id": "BYdJwSSOAp4s"
   },
   "source": [
    "# Instructions\n",
    "\n",
    "- You need to add the code where ever you see \"`/* Add your code here */`\"\n",
    "- Marks are mentioned along with the cells\n",
    "- **Do not edit any of the prefilled text/code part**"
   ]
  },
  {
   "cell_type": "markdown",
   "metadata": {
    "id": "LU3Iwf1hPqus"
   },
   "source": [
    "## Run below cells before starting the test - Mandatory"
   ]
  },
  {
   "cell_type": "markdown",
   "metadata": {
    "id": "G9HdHP93iSYK"
   },
   "source": [
    "#### Please run the below cell. Don't edit anything."
   ]
  },
  {
   "cell_type": "code",
   "execution_count": 1,
   "metadata": {
    "id": "tCqvlOraEqxG"
   },
   "outputs": [
    {
     "name": "stdout",
     "output_type": "stream",
     "text": [
      "Requirement already satisfied: pip in c:\\users\\dheep.balaraman\\anaconda3\\envs\\kaggleenv\\lib\\site-packages (21.1.2)\n",
      "Requirement already satisfied: ipython-sql in c:\\users\\dheep.balaraman\\anaconda3\\envs\\kaggleenv\\lib\\site-packages (0.4.0)\n",
      "Requirement already satisfied: prettytable<1 in c:\\users\\dheep.balaraman\\anaconda3\\envs\\kaggleenv\\lib\\site-packages (from ipython-sql) (0.7.2)\n",
      "Requirement already satisfied: ipython>=1.0 in c:\\users\\dheep.balaraman\\anaconda3\\envs\\kaggleenv\\lib\\site-packages (from ipython-sql) (7.16.1)\n",
      "Requirement already satisfied: ipython-genutils>=0.1.0 in c:\\users\\dheep.balaraman\\anaconda3\\envs\\kaggleenv\\lib\\site-packages (from ipython-sql) (0.2.0)\n",
      "Requirement already satisfied: sqlalchemy>=0.6.7 in c:\\users\\dheep.balaraman\\anaconda3\\envs\\kaggleenv\\lib\\site-packages (from ipython-sql) (1.3.18)\n",
      "Requirement already satisfied: six in c:\\users\\dheep.balaraman\\anaconda3\\envs\\kaggleenv\\lib\\site-packages (from ipython-sql) (1.15.0)\n",
      "Requirement already satisfied: sqlparse in c:\\users\\dheep.balaraman\\anaconda3\\envs\\kaggleenv\\lib\\site-packages (from ipython-sql) (0.4.1)\n",
      "Requirement already satisfied: pygments in c:\\users\\dheep.balaraman\\anaconda3\\envs\\kaggleenv\\lib\\site-packages (from ipython>=1.0->ipython-sql) (2.6.1)\n",
      "Requirement already satisfied: setuptools>=18.5 in c:\\users\\dheep.balaraman\\anaconda3\\envs\\kaggleenv\\lib\\site-packages (from ipython>=1.0->ipython-sql) (49.2.0.post20200714)\n",
      "Requirement already satisfied: prompt-toolkit!=3.0.0,!=3.0.1,<3.1.0,>=2.0.0 in c:\\users\\dheep.balaraman\\anaconda3\\envs\\kaggleenv\\lib\\site-packages (from ipython>=1.0->ipython-sql) (3.0.5)\n",
      "Requirement already satisfied: backcall in c:\\users\\dheep.balaraman\\anaconda3\\envs\\kaggleenv\\lib\\site-packages (from ipython>=1.0->ipython-sql) (0.2.0)\n",
      "Requirement already satisfied: traitlets>=4.2 in c:\\users\\dheep.balaraman\\anaconda3\\envs\\kaggleenv\\lib\\site-packages (from ipython>=1.0->ipython-sql) (4.3.3)\n",
      "Requirement already satisfied: colorama in c:\\users\\dheep.balaraman\\anaconda3\\envs\\kaggleenv\\lib\\site-packages (from ipython>=1.0->ipython-sql) (0.4.3)\n",
      "Requirement already satisfied: decorator in c:\\users\\dheep.balaraman\\anaconda3\\envs\\kaggleenv\\lib\\site-packages (from ipython>=1.0->ipython-sql) (4.4.2)\n",
      "Requirement already satisfied: pickleshare in c:\\users\\dheep.balaraman\\anaconda3\\envs\\kaggleenv\\lib\\site-packages (from ipython>=1.0->ipython-sql) (0.7.5)\n",
      "Requirement already satisfied: jedi>=0.10 in c:\\users\\dheep.balaraman\\anaconda3\\envs\\kaggleenv\\lib\\site-packages (from ipython>=1.0->ipython-sql) (0.17.1)\n",
      "Requirement already satisfied: parso<0.8.0,>=0.7.0 in c:\\users\\dheep.balaraman\\anaconda3\\envs\\kaggleenv\\lib\\site-packages (from jedi>=0.10->ipython>=1.0->ipython-sql) (0.7.0)\n",
      "Requirement already satisfied: wcwidth in c:\\users\\dheep.balaraman\\anaconda3\\envs\\kaggleenv\\lib\\site-packages (from prompt-toolkit!=3.0.0,!=3.0.1,<3.1.0,>=2.0.0->ipython>=1.0->ipython-sql) (0.2.5)\n"
     ]
    }
   ],
   "source": [
    "!pip install --upgrade pip\n",
    "!pip install ipython-sql\n",
    "\n",
    "%load_ext sql\n",
    "%sql sqlite://"
   ]
  },
  {
   "cell_type": "markdown",
   "metadata": {
    "id": "XWk8HO9-lRI6"
   },
   "source": [
    "#### Please run the below cell. Don't edit anything."
   ]
  },
  {
   "cell_type": "code",
   "execution_count": 2,
   "metadata": {
    "id": "9N7VC9taUa_G"
   },
   "outputs": [
    {
     "name": "stdout",
     "output_type": "stream",
     "text": [
      " * sqlite://\n",
      "Done.\n",
      "1 rows affected.\n",
      "1 rows affected.\n",
      "1 rows affected.\n",
      "1 rows affected.\n",
      "1 rows affected.\n",
      "1 rows affected.\n",
      "1 rows affected.\n",
      "1 rows affected.\n",
      "1 rows affected.\n",
      "Done.\n",
      "1 rows affected.\n",
      "1 rows affected.\n",
      "1 rows affected.\n",
      "1 rows affected.\n",
      "1 rows affected.\n",
      "1 rows affected.\n",
      "1 rows affected.\n",
      "1 rows affected.\n",
      "1 rows affected.\n",
      "1 rows affected.\n"
     ]
    },
    {
     "data": {
      "text/plain": [
       "[]"
      ]
     },
     "execution_count": 2,
     "metadata": {},
     "output_type": "execute_result"
    }
   ],
   "source": [
    "%%sql\n",
    "\n",
    "CREATE TABLE if not exists `product` (\n",
    "   `product_id` char(10) DEFAULT NULL,\n",
    "   `product_name` varchar(24) DEFAULT NULL,\n",
    "   `price` int(11) DEFAULT NULL,\n",
    "   `product_category` varchar(45) DEFAULT NULL\n",
    " );\n",
    " \n",
    "INSERT INTO `product` (`product_id`,`product_name`,`price`,`product_category`) VALUES ('P01','iphone 11',64000,'Mobile');\n",
    "INSERT INTO `product` (`product_id`,`product_name`,`price`,`product_category`) VALUES ('P02','ipad pro',81000,'Tablet');\n",
    "INSERT INTO `product` (`product_id`,`product_name`,`price`,`product_category`) VALUES ('P03','macbook air',75000,'Laptop');\n",
    "INSERT INTO `product` (`product_id`,`product_name`,`price`,`product_category`) VALUES ('P04','Sony 43 inch',55000,'TV');\n",
    "INSERT INTO `product` (`product_id`,`product_name`,`price`,`product_category`) VALUES ('P05','Samsung M31S',22000,'Mobile');\n",
    "INSERT INTO `product` (`product_id`,`product_name`,`price`,`product_category`) VALUES ('P06','Samsung A01',9000,'Mobile');\n",
    "INSERT INTO `product` (`product_id`,`product_name`,`price`,`product_category`) VALUES ('P07','Samsung 43 inch',45000,'TV');\n",
    "INSERT INTO `product` (`product_id`,`product_name`,`price`,`product_category`) VALUES ('P08','logi Keyboard',8500,'Accessories');\n",
    "INSERT INTO `product` (`product_id`,`product_name`,`price`,`product_category`) VALUES ('P09','Apple Pencil',8500,'Accessories');\n",
    "\n",
    " \n",
    "CREATE TABLE if not exists `customer` (\n",
    " `customer_id` int(11) DEFAULT NULL,\n",
    " `customer_name` varchar(15) DEFAULT NULL,\n",
    " `credit_limit` int(11) DEFAULT NULL);\n",
    "\n",
    "INSERT INTO `customer` (`customer_id`,`customer_name`,`credit_limit`) VALUES (1,'Liya',32000);\n",
    "INSERT INTO `customer` (`customer_id`,`customer_name`,`credit_limit`) VALUES (2,'Jane',35000);\n",
    "INSERT INTO `customer` (`customer_id`,`customer_name`,`credit_limit`) VALUES (3,'Tom',40000);\n",
    "INSERT INTO `customer` (`customer_id`,`customer_name`,`credit_limit`) VALUES (4,'John',30000);\n",
    "INSERT INTO `customer` (`customer_id`,`customer_name`,`credit_limit`) VALUES (5,'Lizzy',36000);\n",
    "INSERT INTO `customer` (`customer_id`,`customer_name`,`credit_limit`) VALUES (6,'Maria',25000);\n",
    "INSERT INTO `customer` (`customer_id`,`customer_name`,`credit_limit`) VALUES (7,'Kate',28500);\n",
    "INSERT INTO `customer` (`customer_id`,`customer_name`,`credit_limit`) VALUES (8,'Ben',50000);\n",
    "INSERT INTO `customer` (`customer_id`,`customer_name`,`credit_limit`) VALUES (9,'Ford',90000);\n",
    "INSERT INTO `customer` (`customer_id`,`customer_name`,`credit_limit`) VALUES (10,'Stonq',100000);"
   ]
  },
  {
   "cell_type": "markdown",
   "metadata": {
    "id": "Qau1tykjlSkf"
   },
   "source": [
    "#### Please run the below cell. Don't edit anything."
   ]
  },
  {
   "cell_type": "code",
   "execution_count": 3,
   "metadata": {
    "id": "0AUcA_lzObxB"
   },
   "outputs": [
    {
     "name": "stdout",
     "output_type": "stream",
     "text": [
      " * sqlite://\n",
      "Done.\n"
     ]
    },
    {
     "data": {
      "text/html": [
       "<table>\n",
       "    <tr>\n",
       "        <th>product_id</th>\n",
       "        <th>product_name</th>\n",
       "        <th>price</th>\n",
       "        <th>product_category</th>\n",
       "    </tr>\n",
       "    <tr>\n",
       "        <td>P01</td>\n",
       "        <td>iphone 11</td>\n",
       "        <td>64000</td>\n",
       "        <td>Mobile</td>\n",
       "    </tr>\n",
       "    <tr>\n",
       "        <td>P02</td>\n",
       "        <td>ipad pro</td>\n",
       "        <td>81000</td>\n",
       "        <td>Tablet</td>\n",
       "    </tr>\n",
       "    <tr>\n",
       "        <td>P03</td>\n",
       "        <td>macbook air</td>\n",
       "        <td>75000</td>\n",
       "        <td>Laptop</td>\n",
       "    </tr>\n",
       "    <tr>\n",
       "        <td>P04</td>\n",
       "        <td>Sony 43 inch</td>\n",
       "        <td>55000</td>\n",
       "        <td>TV</td>\n",
       "    </tr>\n",
       "    <tr>\n",
       "        <td>P05</td>\n",
       "        <td>Samsung M31S</td>\n",
       "        <td>22000</td>\n",
       "        <td>Mobile</td>\n",
       "    </tr>\n",
       "    <tr>\n",
       "        <td>P06</td>\n",
       "        <td>Samsung A01</td>\n",
       "        <td>9000</td>\n",
       "        <td>Mobile</td>\n",
       "    </tr>\n",
       "    <tr>\n",
       "        <td>P07</td>\n",
       "        <td>Samsung 43 inch</td>\n",
       "        <td>45000</td>\n",
       "        <td>TV</td>\n",
       "    </tr>\n",
       "    <tr>\n",
       "        <td>P08</td>\n",
       "        <td>logi Keyboard</td>\n",
       "        <td>8500</td>\n",
       "        <td>Accessories</td>\n",
       "    </tr>\n",
       "    <tr>\n",
       "        <td>P09</td>\n",
       "        <td>Apple Pencil</td>\n",
       "        <td>8500</td>\n",
       "        <td>Accessories</td>\n",
       "    </tr>\n",
       "</table>"
      ],
      "text/plain": [
       "[('P01', 'iphone 11', 64000, 'Mobile'),\n",
       " ('P02', 'ipad pro', 81000, 'Tablet'),\n",
       " ('P03', 'macbook air', 75000, 'Laptop'),\n",
       " ('P04', 'Sony 43 inch', 55000, 'TV'),\n",
       " ('P05', 'Samsung M31S', 22000, 'Mobile'),\n",
       " ('P06', 'Samsung A01', 9000, 'Mobile'),\n",
       " ('P07', 'Samsung 43 inch', 45000, 'TV'),\n",
       " ('P08', 'logi Keyboard', 8500, 'Accessories'),\n",
       " ('P09', 'Apple Pencil', 8500, 'Accessories')]"
      ]
     },
     "execution_count": 3,
     "metadata": {},
     "output_type": "execute_result"
    }
   ],
   "source": [
    "%%sql\n",
    "\n",
    "select * from product;"
   ]
  },
  {
   "cell_type": "markdown",
   "metadata": {
    "id": "KQXEpFaslUAI"
   },
   "source": [
    "#### Please run the below cell. Don't edit anything."
   ]
  },
  {
   "cell_type": "code",
   "execution_count": 4,
   "metadata": {
    "id": "Ii7vLm7pOd0g"
   },
   "outputs": [
    {
     "name": "stdout",
     "output_type": "stream",
     "text": [
      " * sqlite://\n",
      "Done.\n"
     ]
    },
    {
     "data": {
      "text/html": [
       "<table>\n",
       "    <tr>\n",
       "        <th>customer_id</th>\n",
       "        <th>customer_name</th>\n",
       "        <th>credit_limit</th>\n",
       "    </tr>\n",
       "    <tr>\n",
       "        <td>1</td>\n",
       "        <td>Liya</td>\n",
       "        <td>32000</td>\n",
       "    </tr>\n",
       "    <tr>\n",
       "        <td>2</td>\n",
       "        <td>Jane</td>\n",
       "        <td>35000</td>\n",
       "    </tr>\n",
       "    <tr>\n",
       "        <td>3</td>\n",
       "        <td>Tom</td>\n",
       "        <td>40000</td>\n",
       "    </tr>\n",
       "    <tr>\n",
       "        <td>4</td>\n",
       "        <td>John</td>\n",
       "        <td>30000</td>\n",
       "    </tr>\n",
       "    <tr>\n",
       "        <td>5</td>\n",
       "        <td>Lizzy</td>\n",
       "        <td>36000</td>\n",
       "    </tr>\n",
       "    <tr>\n",
       "        <td>6</td>\n",
       "        <td>Maria</td>\n",
       "        <td>25000</td>\n",
       "    </tr>\n",
       "    <tr>\n",
       "        <td>7</td>\n",
       "        <td>Kate</td>\n",
       "        <td>28500</td>\n",
       "    </tr>\n",
       "    <tr>\n",
       "        <td>8</td>\n",
       "        <td>Ben</td>\n",
       "        <td>50000</td>\n",
       "    </tr>\n",
       "    <tr>\n",
       "        <td>9</td>\n",
       "        <td>Ford</td>\n",
       "        <td>90000</td>\n",
       "    </tr>\n",
       "    <tr>\n",
       "        <td>10</td>\n",
       "        <td>Stonq</td>\n",
       "        <td>100000</td>\n",
       "    </tr>\n",
       "</table>"
      ],
      "text/plain": [
       "[(1, 'Liya', 32000),\n",
       " (2, 'Jane', 35000),\n",
       " (3, 'Tom', 40000),\n",
       " (4, 'John', 30000),\n",
       " (5, 'Lizzy', 36000),\n",
       " (6, 'Maria', 25000),\n",
       " (7, 'Kate', 28500),\n",
       " (8, 'Ben', 50000),\n",
       " (9, 'Ford', 90000),\n",
       " (10, 'Stonq', 100000)]"
      ]
     },
     "execution_count": 4,
     "metadata": {},
     "output_type": "execute_result"
    }
   ],
   "source": [
    "%%sql\n",
    "\n",
    "select * from customer;"
   ]
  },
  {
   "cell_type": "markdown",
   "metadata": {
    "id": "n_nkNWZYUamf"
   },
   "source": [
    "---"
   ]
  },
  {
   "cell_type": "markdown",
   "metadata": {
    "id": "RE3TZXuYOzRT"
   },
   "source": [
    "### **Refer to the `product` and `customer` table to answer the below questions**"
   ]
  },
  {
   "cell_type": "markdown",
   "metadata": {
    "id": "wJpUPm5z9q8E"
   },
   "source": [
    "## Question 1 (6 Marks)"
   ]
  },
  {
   "cell_type": "markdown",
   "metadata": {
    "id": "ezu6WUNdT950"
   },
   "source": [
    "Find out the lowest and highest price for each `product_category` in `product` table. \n",
    "\n",
    "Your query response should have three columns **product_category, min_price, max_price**. \n",
    "\n",
    "\n"
   ]
  },
  {
   "cell_type": "code",
   "execution_count": 9,
   "metadata": {
    "id": "3QbEcHmGIz9W"
   },
   "outputs": [
    {
     "name": "stdout",
     "output_type": "stream",
     "text": [
      " * sqlite://\n",
      "Done.\n"
     ]
    },
    {
     "data": {
      "text/html": [
       "<table>\n",
       "    <tr>\n",
       "        <th>product_category</th>\n",
       "        <th>min_price</th>\n",
       "        <th>max_price</th>\n",
       "    </tr>\n",
       "    <tr>\n",
       "        <td>Accessories</td>\n",
       "        <td>8500</td>\n",
       "        <td>8500</td>\n",
       "    </tr>\n",
       "    <tr>\n",
       "        <td>Laptop</td>\n",
       "        <td>75000</td>\n",
       "        <td>75000</td>\n",
       "    </tr>\n",
       "    <tr>\n",
       "        <td>Mobile</td>\n",
       "        <td>9000</td>\n",
       "        <td>64000</td>\n",
       "    </tr>\n",
       "    <tr>\n",
       "        <td>TV</td>\n",
       "        <td>45000</td>\n",
       "        <td>55000</td>\n",
       "    </tr>\n",
       "    <tr>\n",
       "        <td>Tablet</td>\n",
       "        <td>81000</td>\n",
       "        <td>81000</td>\n",
       "    </tr>\n",
       "</table>"
      ],
      "text/plain": [
       "[('Accessories', 8500, 8500),\n",
       " ('Laptop', 75000, 75000),\n",
       " ('Mobile', 9000, 64000),\n",
       " ('TV', 45000, 55000),\n",
       " ('Tablet', 81000, 81000)]"
      ]
     },
     "execution_count": 9,
     "metadata": {},
     "output_type": "execute_result"
    }
   ],
   "source": [
    "%%sql\n",
    "\n",
    "SELECT product_category, MIN(price) as min_price, MAX(price) as max_price FROM product GROUP BY product_category;"
   ]
  },
  {
   "cell_type": "markdown",
   "metadata": {
    "id": "aufrK2gSUI2B"
   },
   "source": [
    "## Question 2 (6 Marks)"
   ]
  },
  {
   "cell_type": "markdown",
   "metadata": {
    "id": "wYq7j6axUMWp"
   },
   "source": [
    "Print details of top 5 customers with maximum credit limit in a descending order.\n",
    "\n",
    "Your query response must have three columns **customer_id, customer_name, credit_limit**. "
   ]
  },
  {
   "cell_type": "code",
   "execution_count": 14,
   "metadata": {
    "id": "fqFuhgC8MF2E"
   },
   "outputs": [
    {
     "name": "stdout",
     "output_type": "stream",
     "text": [
      " * sqlite://\n",
      "Done.\n"
     ]
    },
    {
     "data": {
      "text/html": [
       "<table>\n",
       "    <tr>\n",
       "        <th>customer_id</th>\n",
       "        <th>customer_name</th>\n",
       "        <th>credit_limit</th>\n",
       "    </tr>\n",
       "    <tr>\n",
       "        <td>10</td>\n",
       "        <td>Stonq</td>\n",
       "        <td>100000</td>\n",
       "    </tr>\n",
       "    <tr>\n",
       "        <td>9</td>\n",
       "        <td>Ford</td>\n",
       "        <td>90000</td>\n",
       "    </tr>\n",
       "    <tr>\n",
       "        <td>8</td>\n",
       "        <td>Ben</td>\n",
       "        <td>50000</td>\n",
       "    </tr>\n",
       "    <tr>\n",
       "        <td>3</td>\n",
       "        <td>Tom</td>\n",
       "        <td>40000</td>\n",
       "    </tr>\n",
       "    <tr>\n",
       "        <td>5</td>\n",
       "        <td>Lizzy</td>\n",
       "        <td>36000</td>\n",
       "    </tr>\n",
       "</table>"
      ],
      "text/plain": [
       "[(10, 'Stonq', 100000),\n",
       " (9, 'Ford', 90000),\n",
       " (8, 'Ben', 50000),\n",
       " (3, 'Tom', 40000),\n",
       " (5, 'Lizzy', 36000)]"
      ]
     },
     "execution_count": 14,
     "metadata": {},
     "output_type": "execute_result"
    }
   ],
   "source": [
    "%%sql\n",
    "\n",
    "SELECT customer_id, customer_name, credit_limit FROM customer\n",
    "ORDER BY credit_limit DESC\n",
    "LIMIT 5;"
   ]
  },
  {
   "cell_type": "markdown",
   "metadata": {
    "id": "YafvJWJKUQic"
   },
   "source": [
    "## Question 3 (8 Marks)"
   ]
  },
  {
   "cell_type": "markdown",
   "metadata": {
    "id": "yeOiv5koG5QS"
   },
   "source": [
    "For every customer, find out the products they can buy using their credit limit and order them by `customer_name`.\n",
    "- Note: Customers can only buy products which are priced less than their credit limit.\n",
    "\n",
    "Your query response must have 6 columns, **customer_id, customer_name, credit_limit, product_id, product_name, price**. Every row should be a unique pair of `customer_id` and `product_id`.\n",
    "\n"
   ]
  },
  {
   "cell_type": "code",
   "execution_count": 23,
   "metadata": {
    "id": "L-NXqBqZTGGH"
   },
   "outputs": [
    {
     "name": "stdout",
     "output_type": "stream",
     "text": [
      " * sqlite://\n",
      "Done.\n"
     ]
    },
    {
     "data": {
      "text/html": [
       "<table>\n",
       "    <tr>\n",
       "        <th>customer_id</th>\n",
       "        <th>customer_name</th>\n",
       "        <th>credit_limit</th>\n",
       "        <th>product_id</th>\n",
       "        <th>product_name</th>\n",
       "        <th>price</th>\n",
       "    </tr>\n",
       "    <tr>\n",
       "        <td>8</td>\n",
       "        <td>Ben</td>\n",
       "        <td>50000</td>\n",
       "        <td>P05</td>\n",
       "        <td>Samsung M31S</td>\n",
       "        <td>22000</td>\n",
       "    </tr>\n",
       "    <tr>\n",
       "        <td>8</td>\n",
       "        <td>Ben</td>\n",
       "        <td>50000</td>\n",
       "        <td>P06</td>\n",
       "        <td>Samsung A01</td>\n",
       "        <td>9000</td>\n",
       "    </tr>\n",
       "    <tr>\n",
       "        <td>8</td>\n",
       "        <td>Ben</td>\n",
       "        <td>50000</td>\n",
       "        <td>P07</td>\n",
       "        <td>Samsung 43 inch</td>\n",
       "        <td>45000</td>\n",
       "    </tr>\n",
       "    <tr>\n",
       "        <td>8</td>\n",
       "        <td>Ben</td>\n",
       "        <td>50000</td>\n",
       "        <td>P08</td>\n",
       "        <td>logi Keyboard</td>\n",
       "        <td>8500</td>\n",
       "    </tr>\n",
       "    <tr>\n",
       "        <td>8</td>\n",
       "        <td>Ben</td>\n",
       "        <td>50000</td>\n",
       "        <td>P09</td>\n",
       "        <td>Apple Pencil</td>\n",
       "        <td>8500</td>\n",
       "    </tr>\n",
       "    <tr>\n",
       "        <td>9</td>\n",
       "        <td>Ford</td>\n",
       "        <td>90000</td>\n",
       "        <td>P01</td>\n",
       "        <td>iphone 11</td>\n",
       "        <td>64000</td>\n",
       "    </tr>\n",
       "    <tr>\n",
       "        <td>9</td>\n",
       "        <td>Ford</td>\n",
       "        <td>90000</td>\n",
       "        <td>P02</td>\n",
       "        <td>ipad pro</td>\n",
       "        <td>81000</td>\n",
       "    </tr>\n",
       "    <tr>\n",
       "        <td>9</td>\n",
       "        <td>Ford</td>\n",
       "        <td>90000</td>\n",
       "        <td>P03</td>\n",
       "        <td>macbook air</td>\n",
       "        <td>75000</td>\n",
       "    </tr>\n",
       "    <tr>\n",
       "        <td>9</td>\n",
       "        <td>Ford</td>\n",
       "        <td>90000</td>\n",
       "        <td>P04</td>\n",
       "        <td>Sony 43 inch</td>\n",
       "        <td>55000</td>\n",
       "    </tr>\n",
       "    <tr>\n",
       "        <td>9</td>\n",
       "        <td>Ford</td>\n",
       "        <td>90000</td>\n",
       "        <td>P05</td>\n",
       "        <td>Samsung M31S</td>\n",
       "        <td>22000</td>\n",
       "    </tr>\n",
       "    <tr>\n",
       "        <td>9</td>\n",
       "        <td>Ford</td>\n",
       "        <td>90000</td>\n",
       "        <td>P06</td>\n",
       "        <td>Samsung A01</td>\n",
       "        <td>9000</td>\n",
       "    </tr>\n",
       "    <tr>\n",
       "        <td>9</td>\n",
       "        <td>Ford</td>\n",
       "        <td>90000</td>\n",
       "        <td>P07</td>\n",
       "        <td>Samsung 43 inch</td>\n",
       "        <td>45000</td>\n",
       "    </tr>\n",
       "    <tr>\n",
       "        <td>9</td>\n",
       "        <td>Ford</td>\n",
       "        <td>90000</td>\n",
       "        <td>P08</td>\n",
       "        <td>logi Keyboard</td>\n",
       "        <td>8500</td>\n",
       "    </tr>\n",
       "    <tr>\n",
       "        <td>9</td>\n",
       "        <td>Ford</td>\n",
       "        <td>90000</td>\n",
       "        <td>P09</td>\n",
       "        <td>Apple Pencil</td>\n",
       "        <td>8500</td>\n",
       "    </tr>\n",
       "    <tr>\n",
       "        <td>2</td>\n",
       "        <td>Jane</td>\n",
       "        <td>35000</td>\n",
       "        <td>P05</td>\n",
       "        <td>Samsung M31S</td>\n",
       "        <td>22000</td>\n",
       "    </tr>\n",
       "    <tr>\n",
       "        <td>2</td>\n",
       "        <td>Jane</td>\n",
       "        <td>35000</td>\n",
       "        <td>P06</td>\n",
       "        <td>Samsung A01</td>\n",
       "        <td>9000</td>\n",
       "    </tr>\n",
       "    <tr>\n",
       "        <td>2</td>\n",
       "        <td>Jane</td>\n",
       "        <td>35000</td>\n",
       "        <td>P08</td>\n",
       "        <td>logi Keyboard</td>\n",
       "        <td>8500</td>\n",
       "    </tr>\n",
       "    <tr>\n",
       "        <td>2</td>\n",
       "        <td>Jane</td>\n",
       "        <td>35000</td>\n",
       "        <td>P09</td>\n",
       "        <td>Apple Pencil</td>\n",
       "        <td>8500</td>\n",
       "    </tr>\n",
       "    <tr>\n",
       "        <td>4</td>\n",
       "        <td>John</td>\n",
       "        <td>30000</td>\n",
       "        <td>P05</td>\n",
       "        <td>Samsung M31S</td>\n",
       "        <td>22000</td>\n",
       "    </tr>\n",
       "    <tr>\n",
       "        <td>4</td>\n",
       "        <td>John</td>\n",
       "        <td>30000</td>\n",
       "        <td>P06</td>\n",
       "        <td>Samsung A01</td>\n",
       "        <td>9000</td>\n",
       "    </tr>\n",
       "    <tr>\n",
       "        <td>4</td>\n",
       "        <td>John</td>\n",
       "        <td>30000</td>\n",
       "        <td>P08</td>\n",
       "        <td>logi Keyboard</td>\n",
       "        <td>8500</td>\n",
       "    </tr>\n",
       "    <tr>\n",
       "        <td>4</td>\n",
       "        <td>John</td>\n",
       "        <td>30000</td>\n",
       "        <td>P09</td>\n",
       "        <td>Apple Pencil</td>\n",
       "        <td>8500</td>\n",
       "    </tr>\n",
       "    <tr>\n",
       "        <td>7</td>\n",
       "        <td>Kate</td>\n",
       "        <td>28500</td>\n",
       "        <td>P05</td>\n",
       "        <td>Samsung M31S</td>\n",
       "        <td>22000</td>\n",
       "    </tr>\n",
       "    <tr>\n",
       "        <td>7</td>\n",
       "        <td>Kate</td>\n",
       "        <td>28500</td>\n",
       "        <td>P06</td>\n",
       "        <td>Samsung A01</td>\n",
       "        <td>9000</td>\n",
       "    </tr>\n",
       "    <tr>\n",
       "        <td>7</td>\n",
       "        <td>Kate</td>\n",
       "        <td>28500</td>\n",
       "        <td>P08</td>\n",
       "        <td>logi Keyboard</td>\n",
       "        <td>8500</td>\n",
       "    </tr>\n",
       "    <tr>\n",
       "        <td>7</td>\n",
       "        <td>Kate</td>\n",
       "        <td>28500</td>\n",
       "        <td>P09</td>\n",
       "        <td>Apple Pencil</td>\n",
       "        <td>8500</td>\n",
       "    </tr>\n",
       "    <tr>\n",
       "        <td>1</td>\n",
       "        <td>Liya</td>\n",
       "        <td>32000</td>\n",
       "        <td>P05</td>\n",
       "        <td>Samsung M31S</td>\n",
       "        <td>22000</td>\n",
       "    </tr>\n",
       "    <tr>\n",
       "        <td>1</td>\n",
       "        <td>Liya</td>\n",
       "        <td>32000</td>\n",
       "        <td>P06</td>\n",
       "        <td>Samsung A01</td>\n",
       "        <td>9000</td>\n",
       "    </tr>\n",
       "    <tr>\n",
       "        <td>1</td>\n",
       "        <td>Liya</td>\n",
       "        <td>32000</td>\n",
       "        <td>P08</td>\n",
       "        <td>logi Keyboard</td>\n",
       "        <td>8500</td>\n",
       "    </tr>\n",
       "    <tr>\n",
       "        <td>1</td>\n",
       "        <td>Liya</td>\n",
       "        <td>32000</td>\n",
       "        <td>P09</td>\n",
       "        <td>Apple Pencil</td>\n",
       "        <td>8500</td>\n",
       "    </tr>\n",
       "    <tr>\n",
       "        <td>5</td>\n",
       "        <td>Lizzy</td>\n",
       "        <td>36000</td>\n",
       "        <td>P05</td>\n",
       "        <td>Samsung M31S</td>\n",
       "        <td>22000</td>\n",
       "    </tr>\n",
       "    <tr>\n",
       "        <td>5</td>\n",
       "        <td>Lizzy</td>\n",
       "        <td>36000</td>\n",
       "        <td>P06</td>\n",
       "        <td>Samsung A01</td>\n",
       "        <td>9000</td>\n",
       "    </tr>\n",
       "    <tr>\n",
       "        <td>5</td>\n",
       "        <td>Lizzy</td>\n",
       "        <td>36000</td>\n",
       "        <td>P08</td>\n",
       "        <td>logi Keyboard</td>\n",
       "        <td>8500</td>\n",
       "    </tr>\n",
       "    <tr>\n",
       "        <td>5</td>\n",
       "        <td>Lizzy</td>\n",
       "        <td>36000</td>\n",
       "        <td>P09</td>\n",
       "        <td>Apple Pencil</td>\n",
       "        <td>8500</td>\n",
       "    </tr>\n",
       "    <tr>\n",
       "        <td>6</td>\n",
       "        <td>Maria</td>\n",
       "        <td>25000</td>\n",
       "        <td>P05</td>\n",
       "        <td>Samsung M31S</td>\n",
       "        <td>22000</td>\n",
       "    </tr>\n",
       "    <tr>\n",
       "        <td>6</td>\n",
       "        <td>Maria</td>\n",
       "        <td>25000</td>\n",
       "        <td>P06</td>\n",
       "        <td>Samsung A01</td>\n",
       "        <td>9000</td>\n",
       "    </tr>\n",
       "    <tr>\n",
       "        <td>6</td>\n",
       "        <td>Maria</td>\n",
       "        <td>25000</td>\n",
       "        <td>P08</td>\n",
       "        <td>logi Keyboard</td>\n",
       "        <td>8500</td>\n",
       "    </tr>\n",
       "    <tr>\n",
       "        <td>6</td>\n",
       "        <td>Maria</td>\n",
       "        <td>25000</td>\n",
       "        <td>P09</td>\n",
       "        <td>Apple Pencil</td>\n",
       "        <td>8500</td>\n",
       "    </tr>\n",
       "    <tr>\n",
       "        <td>10</td>\n",
       "        <td>Stonq</td>\n",
       "        <td>100000</td>\n",
       "        <td>P01</td>\n",
       "        <td>iphone 11</td>\n",
       "        <td>64000</td>\n",
       "    </tr>\n",
       "    <tr>\n",
       "        <td>10</td>\n",
       "        <td>Stonq</td>\n",
       "        <td>100000</td>\n",
       "        <td>P02</td>\n",
       "        <td>ipad pro</td>\n",
       "        <td>81000</td>\n",
       "    </tr>\n",
       "    <tr>\n",
       "        <td>10</td>\n",
       "        <td>Stonq</td>\n",
       "        <td>100000</td>\n",
       "        <td>P03</td>\n",
       "        <td>macbook air</td>\n",
       "        <td>75000</td>\n",
       "    </tr>\n",
       "    <tr>\n",
       "        <td>10</td>\n",
       "        <td>Stonq</td>\n",
       "        <td>100000</td>\n",
       "        <td>P04</td>\n",
       "        <td>Sony 43 inch</td>\n",
       "        <td>55000</td>\n",
       "    </tr>\n",
       "    <tr>\n",
       "        <td>10</td>\n",
       "        <td>Stonq</td>\n",
       "        <td>100000</td>\n",
       "        <td>P05</td>\n",
       "        <td>Samsung M31S</td>\n",
       "        <td>22000</td>\n",
       "    </tr>\n",
       "    <tr>\n",
       "        <td>10</td>\n",
       "        <td>Stonq</td>\n",
       "        <td>100000</td>\n",
       "        <td>P06</td>\n",
       "        <td>Samsung A01</td>\n",
       "        <td>9000</td>\n",
       "    </tr>\n",
       "    <tr>\n",
       "        <td>10</td>\n",
       "        <td>Stonq</td>\n",
       "        <td>100000</td>\n",
       "        <td>P07</td>\n",
       "        <td>Samsung 43 inch</td>\n",
       "        <td>45000</td>\n",
       "    </tr>\n",
       "    <tr>\n",
       "        <td>10</td>\n",
       "        <td>Stonq</td>\n",
       "        <td>100000</td>\n",
       "        <td>P08</td>\n",
       "        <td>logi Keyboard</td>\n",
       "        <td>8500</td>\n",
       "    </tr>\n",
       "    <tr>\n",
       "        <td>10</td>\n",
       "        <td>Stonq</td>\n",
       "        <td>100000</td>\n",
       "        <td>P09</td>\n",
       "        <td>Apple Pencil</td>\n",
       "        <td>8500</td>\n",
       "    </tr>\n",
       "    <tr>\n",
       "        <td>3</td>\n",
       "        <td>Tom</td>\n",
       "        <td>40000</td>\n",
       "        <td>P05</td>\n",
       "        <td>Samsung M31S</td>\n",
       "        <td>22000</td>\n",
       "    </tr>\n",
       "    <tr>\n",
       "        <td>3</td>\n",
       "        <td>Tom</td>\n",
       "        <td>40000</td>\n",
       "        <td>P06</td>\n",
       "        <td>Samsung A01</td>\n",
       "        <td>9000</td>\n",
       "    </tr>\n",
       "    <tr>\n",
       "        <td>3</td>\n",
       "        <td>Tom</td>\n",
       "        <td>40000</td>\n",
       "        <td>P08</td>\n",
       "        <td>logi Keyboard</td>\n",
       "        <td>8500</td>\n",
       "    </tr>\n",
       "    <tr>\n",
       "        <td>3</td>\n",
       "        <td>Tom</td>\n",
       "        <td>40000</td>\n",
       "        <td>P09</td>\n",
       "        <td>Apple Pencil</td>\n",
       "        <td>8500</td>\n",
       "    </tr>\n",
       "</table>"
      ],
      "text/plain": [
       "[(8, 'Ben', 50000, 'P05', 'Samsung M31S', 22000),\n",
       " (8, 'Ben', 50000, 'P06', 'Samsung A01', 9000),\n",
       " (8, 'Ben', 50000, 'P07', 'Samsung 43 inch', 45000),\n",
       " (8, 'Ben', 50000, 'P08', 'logi Keyboard', 8500),\n",
       " (8, 'Ben', 50000, 'P09', 'Apple Pencil', 8500),\n",
       " (9, 'Ford', 90000, 'P01', 'iphone 11', 64000),\n",
       " (9, 'Ford', 90000, 'P02', 'ipad pro', 81000),\n",
       " (9, 'Ford', 90000, 'P03', 'macbook air', 75000),\n",
       " (9, 'Ford', 90000, 'P04', 'Sony 43 inch', 55000),\n",
       " (9, 'Ford', 90000, 'P05', 'Samsung M31S', 22000),\n",
       " (9, 'Ford', 90000, 'P06', 'Samsung A01', 9000),\n",
       " (9, 'Ford', 90000, 'P07', 'Samsung 43 inch', 45000),\n",
       " (9, 'Ford', 90000, 'P08', 'logi Keyboard', 8500),\n",
       " (9, 'Ford', 90000, 'P09', 'Apple Pencil', 8500),\n",
       " (2, 'Jane', 35000, 'P05', 'Samsung M31S', 22000),\n",
       " (2, 'Jane', 35000, 'P06', 'Samsung A01', 9000),\n",
       " (2, 'Jane', 35000, 'P08', 'logi Keyboard', 8500),\n",
       " (2, 'Jane', 35000, 'P09', 'Apple Pencil', 8500),\n",
       " (4, 'John', 30000, 'P05', 'Samsung M31S', 22000),\n",
       " (4, 'John', 30000, 'P06', 'Samsung A01', 9000),\n",
       " (4, 'John', 30000, 'P08', 'logi Keyboard', 8500),\n",
       " (4, 'John', 30000, 'P09', 'Apple Pencil', 8500),\n",
       " (7, 'Kate', 28500, 'P05', 'Samsung M31S', 22000),\n",
       " (7, 'Kate', 28500, 'P06', 'Samsung A01', 9000),\n",
       " (7, 'Kate', 28500, 'P08', 'logi Keyboard', 8500),\n",
       " (7, 'Kate', 28500, 'P09', 'Apple Pencil', 8500),\n",
       " (1, 'Liya', 32000, 'P05', 'Samsung M31S', 22000),\n",
       " (1, 'Liya', 32000, 'P06', 'Samsung A01', 9000),\n",
       " (1, 'Liya', 32000, 'P08', 'logi Keyboard', 8500),\n",
       " (1, 'Liya', 32000, 'P09', 'Apple Pencil', 8500),\n",
       " (5, 'Lizzy', 36000, 'P05', 'Samsung M31S', 22000),\n",
       " (5, 'Lizzy', 36000, 'P06', 'Samsung A01', 9000),\n",
       " (5, 'Lizzy', 36000, 'P08', 'logi Keyboard', 8500),\n",
       " (5, 'Lizzy', 36000, 'P09', 'Apple Pencil', 8500),\n",
       " (6, 'Maria', 25000, 'P05', 'Samsung M31S', 22000),\n",
       " (6, 'Maria', 25000, 'P06', 'Samsung A01', 9000),\n",
       " (6, 'Maria', 25000, 'P08', 'logi Keyboard', 8500),\n",
       " (6, 'Maria', 25000, 'P09', 'Apple Pencil', 8500),\n",
       " (10, 'Stonq', 100000, 'P01', 'iphone 11', 64000),\n",
       " (10, 'Stonq', 100000, 'P02', 'ipad pro', 81000),\n",
       " (10, 'Stonq', 100000, 'P03', 'macbook air', 75000),\n",
       " (10, 'Stonq', 100000, 'P04', 'Sony 43 inch', 55000),\n",
       " (10, 'Stonq', 100000, 'P05', 'Samsung M31S', 22000),\n",
       " (10, 'Stonq', 100000, 'P06', 'Samsung A01', 9000),\n",
       " (10, 'Stonq', 100000, 'P07', 'Samsung 43 inch', 45000),\n",
       " (10, 'Stonq', 100000, 'P08', 'logi Keyboard', 8500),\n",
       " (10, 'Stonq', 100000, 'P09', 'Apple Pencil', 8500),\n",
       " (3, 'Tom', 40000, 'P05', 'Samsung M31S', 22000),\n",
       " (3, 'Tom', 40000, 'P06', 'Samsung A01', 9000),\n",
       " (3, 'Tom', 40000, 'P08', 'logi Keyboard', 8500),\n",
       " (3, 'Tom', 40000, 'P09', 'Apple Pencil', 8500)]"
      ]
     },
     "execution_count": 23,
     "metadata": {},
     "output_type": "execute_result"
    }
   ],
   "source": [
    "%%sql\n",
    "\n",
    "SELECT cus.customer_id, cus.customer_name, cus.credit_limit, prd.product_id, prd.product_name, prd.price\n",
    "FROM customer cus\n",
    "LEFT JOIN product prd\n",
    "ON cus.credit_limit >= prd.price\n",
    "ORDER BY cus.customer_name;"
   ]
  },
  {
   "cell_type": "code",
   "execution_count": null,
   "metadata": {},
   "outputs": [],
   "source": []
  }
 ],
 "metadata": {
  "colab": {
   "collapsed_sections": [],
   "name": "Questions - SQL Programming - Baseline Test - ACSE - IITM.ipynb",
   "provenance": []
  },
  "kernelspec": {
   "display_name": "Python 3",
   "language": "python",
   "name": "python3"
  },
  "language_info": {
   "codemirror_mode": {
    "name": "ipython",
    "version": 3
   },
   "file_extension": ".py",
   "mimetype": "text/x-python",
   "name": "python",
   "nbconvert_exporter": "python",
   "pygments_lexer": "ipython3",
   "version": "3.8.3"
  }
 },
 "nbformat": 4,
 "nbformat_minor": 1
}
