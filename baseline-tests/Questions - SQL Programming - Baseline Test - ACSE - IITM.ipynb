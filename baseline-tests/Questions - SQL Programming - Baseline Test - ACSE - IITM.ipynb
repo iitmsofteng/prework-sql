{
 "cells": [
  {
   "cell_type": "markdown",
   "metadata": {
    "id": "FicjAlQHA3a7"
   },
   "source": [
    "<img src=\"http://drive.google.com/uc?export=view&id=1tpOCamr9aWz817atPnyXus8w5gJ3mIts\" width=500px>\n",
    "\n",
    "Proprietary content. © Great Learning. All Rights Reserved. Unauthorized use or distribution prohibited."
   ]
  },
  {
   "cell_type": "markdown",
   "metadata": {
    "id": "fXEy7iu-A7bZ"
   },
   "source": [
    "---\n",
    "# Baseline Test - Advanced Certificate in Software Engineering - IIT Madras\n",
    "---"
   ]
  },
  {
   "cell_type": "markdown",
   "metadata": {
    "id": "BYdJwSSOAp4s"
   },
   "source": [
    "# Instructions\n",
    "\n",
    "- You need to add the code where ever you see \"`/* Add your code here */`\"\n",
    "- Marks are mentioned along with the cells\n",
    "- **Do not edit any of the prefilled text/code part**"
   ]
  },
  {
   "cell_type": "markdown",
   "metadata": {
    "id": "LU3Iwf1hPqus"
   },
   "source": [
    "## Run below cells before starting the test - Mandatory"
   ]
  },
  {
   "cell_type": "markdown",
   "metadata": {
    "id": "G9HdHP93iSYK"
   },
   "source": [
    "#### Please run the below cell. Don't edit anything."
   ]
  },
  {
   "cell_type": "code",
   "execution_count": null,
   "metadata": {
    "id": "tCqvlOraEqxG"
   },
   "outputs": [],
   "source": [
    "!pip install --upgrade pip\n",
    "!pip install ipython-sql\n",
    "\n",
    "%load_ext sql\n",
    "%sql sqlite://"
   ]
  },
  {
   "cell_type": "markdown",
   "metadata": {
    "id": "XWk8HO9-lRI6"
   },
   "source": [
    "#### Please run the below cell. Don't edit anything."
   ]
  },
  {
   "cell_type": "code",
   "execution_count": null,
   "metadata": {
    "id": "9N7VC9taUa_G"
   },
   "outputs": [],
   "source": [
    "%%sql\n",
    "\n",
    "CREATE TABLE if not exists `product` (\n",
    "   `product_id` char(10) DEFAULT NULL,\n",
    "   `product_name` varchar(24) DEFAULT NULL,\n",
    "   `price` int(11) DEFAULT NULL,\n",
    "   `product_category` varchar(45) DEFAULT NULL\n",
    " );\n",
    " \n",
    "INSERT INTO `product` (`product_id`,`product_name`,`price`,`product_category`) VALUES ('P01','iphone 11',64000,'Mobile');\n",
    "INSERT INTO `product` (`product_id`,`product_name`,`price`,`product_category`) VALUES ('P02','ipad pro',81000,'Tablet');\n",
    "INSERT INTO `product` (`product_id`,`product_name`,`price`,`product_category`) VALUES ('P03','macbook air',75000,'Laptop');\n",
    "INSERT INTO `product` (`product_id`,`product_name`,`price`,`product_category`) VALUES ('P04','Sony 43 inch',55000,'TV');\n",
    "INSERT INTO `product` (`product_id`,`product_name`,`price`,`product_category`) VALUES ('P05','Samsung M31S',22000,'Mobile');\n",
    "INSERT INTO `product` (`product_id`,`product_name`,`price`,`product_category`) VALUES ('P06','Samsung A01',9000,'Mobile');\n",
    "INSERT INTO `product` (`product_id`,`product_name`,`price`,`product_category`) VALUES ('P07','Samsung 43 inch',45000,'TV');\n",
    "INSERT INTO `product` (`product_id`,`product_name`,`price`,`product_category`) VALUES ('P08','logi Keyboard',8500,'Accessories');\n",
    "INSERT INTO `product` (`product_id`,`product_name`,`price`,`product_category`) VALUES ('P09','Apple Pencil',8500,'Accessories');\n",
    "\n",
    " \n",
    "CREATE TABLE if not exists `customer` (\n",
    " `customer_id` int(11) DEFAULT NULL,\n",
    " `customer_name` varchar(15) DEFAULT NULL,\n",
    " `credit_limit` int(11) DEFAULT NULL);\n",
    "\n",
    "INSERT INTO `customer` (`customer_id`,`customer_name`,`credit_limit`) VALUES (1,'Liya',32000);\n",
    "INSERT INTO `customer` (`customer_id`,`customer_name`,`credit_limit`) VALUES (2,'Jane',35000);\n",
    "INSERT INTO `customer` (`customer_id`,`customer_name`,`credit_limit`) VALUES (3,'Tom',40000);\n",
    "INSERT INTO `customer` (`customer_id`,`customer_name`,`credit_limit`) VALUES (4,'John',30000);\n",
    "INSERT INTO `customer` (`customer_id`,`customer_name`,`credit_limit`) VALUES (5,'Lizzy',36000);\n",
    "INSERT INTO `customer` (`customer_id`,`customer_name`,`credit_limit`) VALUES (6,'Maria',25000);\n",
    "INSERT INTO `customer` (`customer_id`,`customer_name`,`credit_limit`) VALUES (7,'Kate',28500);\n",
    "INSERT INTO `customer` (`customer_id`,`customer_name`,`credit_limit`) VALUES (8,'Ben',50000);\n",
    "INSERT INTO `customer` (`customer_id`,`customer_name`,`credit_limit`) VALUES (9,'Ford',90000);\n",
    "INSERT INTO `customer` (`customer_id`,`customer_name`,`credit_limit`) VALUES (10,'Stonq',100000);"
   ]
  },
  {
   "cell_type": "markdown",
   "metadata": {
    "id": "Qau1tykjlSkf"
   },
   "source": [
    "#### Please run the below cell. Don't edit anything."
   ]
  },
  {
   "cell_type": "code",
   "execution_count": null,
   "metadata": {
    "id": "0AUcA_lzObxB"
   },
   "outputs": [],
   "source": [
    "%%sql\n",
    "\n",
    "select * from product;"
   ]
  },
  {
   "cell_type": "markdown",
   "metadata": {
    "id": "KQXEpFaslUAI"
   },
   "source": [
    "#### Please run the below cell. Don't edit anything."
   ]
  },
  {
   "cell_type": "code",
   "execution_count": null,
   "metadata": {
    "id": "Ii7vLm7pOd0g"
   },
   "outputs": [],
   "source": [
    "%%sql\n",
    "\n",
    "select * from customer;"
   ]
  },
  {
   "cell_type": "markdown",
   "metadata": {
    "id": "n_nkNWZYUamf"
   },
   "source": [
    "---"
   ]
  },
  {
   "cell_type": "markdown",
   "metadata": {
    "id": "RE3TZXuYOzRT"
   },
   "source": [
    "### **Refer to the `product` and `customer` table to answer the below questions**"
   ]
  },
  {
   "cell_type": "markdown",
   "metadata": {
    "id": "wJpUPm5z9q8E"
   },
   "source": [
    "## Question 1 (6 Marks)"
   ]
  },
  {
   "cell_type": "markdown",
   "metadata": {
    "id": "ezu6WUNdT950"
   },
   "source": [
    "Find out the lowest and highest price for each `product_category` in `product` table. \n",
    "\n",
    "Your query response should have three columns **product_category, min_price, max_price**. \n",
    "\n",
    "\n"
   ]
  },
  {
   "cell_type": "code",
   "execution_count": null,
   "metadata": {
    "id": "3QbEcHmGIz9W"
   },
   "outputs": [],
   "source": [
    "%%sql\n",
    "\n",
    "/* Add your code here */"
   ]
  },
  {
   "cell_type": "markdown",
   "metadata": {
    "id": "aufrK2gSUI2B"
   },
   "source": [
    "## Question 2 (6 Marks)"
   ]
  },
  {
   "cell_type": "markdown",
   "metadata": {
    "id": "wYq7j6axUMWp"
   },
   "source": [
    "Print details of top 5 customers with maximum credit limit in a descending order.\n",
    "\n",
    "Your query response must have three columns **customer_id, customer_name, credit_limit**. "
   ]
  },
  {
   "cell_type": "code",
   "execution_count": null,
   "metadata": {
    "id": "fqFuhgC8MF2E"
   },
   "outputs": [],
   "source": [
    "%%sql\n",
    "\n",
    "/* Add your code here */"
   ]
  },
  {
   "cell_type": "markdown",
   "metadata": {
    "id": "YafvJWJKUQic"
   },
   "source": [
    "## Question 3 (8 Marks)"
   ]
  },
  {
   "cell_type": "markdown",
   "metadata": {
    "id": "yeOiv5koG5QS"
   },
   "source": [
    "For every customer, find out the products they can buy using their credit limit and order them by `customer_name`.\n",
    "- Note: Customers can only buy products which are priced less than their credit limit.\n",
    "\n",
    "Your query response must have 6 columns, **customer_id, customer_name, credit_limit, product_id, product_name, price**. Every row should be a unique pair of `customer_id` and `product_id`.\n",
    "\n"
   ]
  },
  {
   "cell_type": "code",
   "execution_count": null,
   "metadata": {
    "id": "L-NXqBqZTGGH"
   },
   "outputs": [],
   "source": [
    "%%sql\n",
    "\n",
    "/* Add your code here */"
   ]
  }
 ],
 "metadata": {
  "colab": {
   "collapsed_sections": [],
   "name": "Questions - SQL Programming - Baseline Test - ACSE - IITM.ipynb",
   "provenance": []
  },
  "kernelspec": {
   "display_name": "Python 3",
   "language": "python",
   "name": "python3"
  },
  "language_info": {
   "codemirror_mode": {
    "name": "ipython",
    "version": 3
   },
   "file_extension": ".py",
   "mimetype": "text/x-python",
   "name": "python",
   "nbconvert_exporter": "python",
   "pygments_lexer": "ipython3",
   "version": "3.8.3"
  }
 },
 "nbformat": 4,
 "nbformat_minor": 1
}
